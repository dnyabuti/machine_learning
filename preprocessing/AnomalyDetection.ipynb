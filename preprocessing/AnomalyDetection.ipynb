{
 "cells": [
  {
   "cell_type": "markdown",
   "metadata": {
    "deletable": true,
    "editable": true
   },
   "source": [
    "# Time Series Anomaly Detection\n",
    "\n",
    "\n",
    "## Problem Statement\n",
    "\n",
    "There are periods of time where yahoo expects higher than normal network traffic. One example of such a period of high network traffic is during March Madness when users of their services are constantly checking their performance on the fantasy leagues. This kind of anomaly is expected. The challenge for Yahoo is being able to distinguish between the expected anomalies and those that aren’t. Yahoo Webscope data sharing program provides a dataset that can be used to test and validate anomaly detection algorithms.\n",
    "\n",
    "## Data Selection\n",
    "\n",
    "**Announcing A Benchmark Dataset for Time Series Anomaly Detection**\n",
    "\n",
    "https://research.yahoo.com/news/announcing-benchmark-dataset-time-series-anomaly-detection\n",
    "\n",
    "These Webscope Datasets available from Yahoo! Labs requires one to request access to download it. Approval could take up to a week.\n",
    "\n",
    "We will chose 1 of 4 available datasets, in which the data is labeled.  The data is highly unbalanced, with anomalies representing 0.56% of the data.\n",
    "\n",
    "### Description\n",
    "\n",
    "The Webscope Dataset we used contained 100 csv files with a total of 169680 rows of time series data. In this dataset there are 8 predictors and 1 target column. All of the predictors are numerical. Using this dataset we intend to build time series models that can identify anomalies.\n",
    "\n",
    "## Data Preprocessing & Summary\n",
    "\n",
    "We used **`python`** and **`R`** to analyze the dataset. \n",
    "\n",
    "### Loading the data using R"
   ]
  },
  {
   "cell_type": "code",
   "execution_count": null,
   "metadata": {
    "collapsed": true
   },
   "outputs": [],
   "source": [
    "setwd(\"data\")"
   ]
  },
  {
   "cell_type": "code",
   "execution_count": 6,
   "metadata": {
    "collapsed": false,
    "deletable": true,
    "editable": true
   },
   "outputs": [],
   "source": [
    "file_list <- list.files(\".\")\n",
    "if (exists(\"dataset\")){\n",
    "  rm(dataset)\n",
    "}\n",
    "for (file in file_list){\n",
    "  \n",
    "  # if the merged dataset doesn't exist, create it\n",
    "  if (!exists(\"dataset\")){\n",
    "    dataset <- read.csv(file, header=TRUE, sep=\",\")\n",
    "  }\n",
    "  \n",
    "  # if the merged dataset does exist, append to it\n",
    "  if (exists(\"dataset\")){\n",
    "    temp_dataset <-read.csv(file, header=TRUE, sep=\",\")\n",
    "    dataset<-rbind(dataset, temp_dataset)\n",
    "    rm(temp_dataset)\n",
    "  }\n",
    "  \n",
    "}"
   ]
  },
  {
   "cell_type": "markdown",
   "metadata": {
    "deletable": true,
    "editable": true
   },
   "source": [
    "### Summary"
   ]
  },
  {
   "cell_type": "code",
   "execution_count": 7,
   "metadata": {
    "collapsed": false,
    "deletable": true,
    "editable": true
   },
   "outputs": [
    {
     "data": {
      "text/plain": [
       "   timestamps            value             anomaly          changepoint\n",
       " Min.   :1.417e+09   Min.   :-7987.86   Min.   :0.000000   Min.   :0   \n",
       " 1st Qu.:1.418e+09   1st Qu.: -977.93   1st Qu.:0.000000   1st Qu.:0   \n",
       " Median :1.420e+09   Median :   23.94   Median :0.000000   Median :0   \n",
       " Mean   :1.420e+09   Mean   :  -58.89   Mean   :0.005616   Mean   :0   \n",
       " 3rd Qu.:1.421e+09   3rd Qu.:  947.70   3rd Qu.:0.000000   3rd Qu.:0   \n",
       " Max.   :1.423e+09   Max.   : 7006.21   Max.   :1.000000   Max.   :0   \n",
       "     trend              noise            seasonality1     seasonality2   \n",
       " Min.   :-5040.00   Min.   :-877.8337   Min.   :-955.0   Min.   :-920.0  \n",
       " 1st Qu.: -858.00   1st Qu.: -23.8288   1st Qu.:-233.7   1st Qu.:-151.7  \n",
       " Median :    0.00   Median :   0.0142   Median :   0.0   Median :   0.0  \n",
       " Mean   :  -58.25   Mean   :  -0.1996   Mean   :   0.0   Mean   :   0.0  \n",
       " 3rd Qu.:  853.00   3rd Qu.:  23.6788   3rd Qu.: 233.7   3rd Qu.: 151.7  \n",
       " Max.   : 5040.00   Max.   : 961.3856   Max.   : 955.0   Max.   : 920.0  \n",
       "  seasonality3    \n",
       " Min.   :-792.00  \n",
       " 1st Qu.: -99.29  \n",
       " Median :   0.00  \n",
       " Mean   :   0.00  \n",
       " 3rd Qu.:  99.29  \n",
       " Max.   : 792.00  "
      ]
     },
     "metadata": {},
     "output_type": "display_data"
    },
    {
     "name": "stdout",
     "output_type": "stream",
     "text": [
      "Number of rows is  169680"
     ]
    }
   ],
   "source": [
    "summary(dataset)\n",
    "cat('Number of rows is ',nrow(dataset))"
   ]
  },
  {
   "cell_type": "markdown",
   "metadata": {
    "deletable": true,
    "editable": true
   },
   "source": [
    "From the output above it can be observed that our dataset contains 169680 rows of data. Additional summary statistics have also been included. It can be observed that the predictors will require standardization because they are not all on the same scale\n"
   ]
  },
  {
   "cell_type": "code",
   "execution_count": 9,
   "metadata": {
    "collapsed": false,
    "deletable": true,
    "editable": true
   },
   "outputs": [
    {
     "data": {
      "text/html": [
       "<table>\n",
       "<thead><tr><th scope=col>timestamps</th><th scope=col>value</th><th scope=col>anomaly</th><th scope=col>changepoint</th><th scope=col>trend</th><th scope=col>noise</th><th scope=col>seasonality1</th><th scope=col>seasonality2</th><th scope=col>seasonality3</th></tr></thead>\n",
       "<tbody>\n",
       "\t<tr><td>1416722400</td><td>  6.470061</td><td>0         </td><td>0         </td><td>0         </td><td>  6.470061</td><td>  0.0000  </td><td> 0.00000  </td><td> 0.000000 </td></tr>\n",
       "\t<tr><td>1416726000</td><td> 80.972293</td><td>0         </td><td>0         </td><td>0         </td><td>-11.077853</td><td> 67.6000  </td><td>22.20667  </td><td> 2.243472 </td></tr>\n",
       "\t<tr><td>1416729600</td><td>159.014680</td><td>0         </td><td>0         </td><td>0         </td><td> -5.455761</td><td>117.0866  </td><td>42.90000  </td><td> 4.483806 </td></tr>\n",
       "\t<tr><td>1416733200</td><td>214.721803</td><td>0         </td><td>0         </td><td>0         </td><td> 12.134172</td><td>135.2000  </td><td>60.66976  </td><td> 6.717869 </td></tr>\n",
       "\t<tr><td>1416736800</td><td>201.695834</td><td>0         </td><td>0         </td><td>0         </td><td>  1.361684</td><td>117.0866  </td><td>74.30498  </td><td> 8.942536 </td></tr>\n",
       "\t<tr><td>1416740400</td><td>172.005843</td><td>0         </td><td>0         </td><td>0         </td><td> 10.374710</td><td> 67.6000  </td><td>82.87644  </td><td>11.154696 </td></tr>\n",
       "</tbody>\n",
       "</table>\n"
      ],
      "text/latex": [
       "\\begin{tabular}{r|lllllllll}\n",
       " timestamps & value & anomaly & changepoint & trend & noise & seasonality1 & seasonality2 & seasonality3\\\\\n",
       "\\hline\n",
       "\t 1416722400 &   6.470061 & 0          & 0          & 0          &   6.470061 &   0.0000   &  0.00000   &  0.000000 \\\\\n",
       "\t 1416726000 &  80.972293 & 0          & 0          & 0          & -11.077853 &  67.6000   & 22.20667   &  2.243472 \\\\\n",
       "\t 1416729600 & 159.014680 & 0          & 0          & 0          &  -5.455761 & 117.0866   & 42.90000   &  4.483806 \\\\\n",
       "\t 1416733200 & 214.721803 & 0          & 0          & 0          &  12.134172 & 135.2000   & 60.66976   &  6.717869 \\\\\n",
       "\t 1416736800 & 201.695834 & 0          & 0          & 0          &   1.361684 & 117.0866   & 74.30498   &  8.942536 \\\\\n",
       "\t 1416740400 & 172.005843 & 0          & 0          & 0          &  10.374710 &  67.6000   & 82.87644   & 11.154696 \\\\\n",
       "\\end{tabular}\n"
      ],
      "text/plain": [
       "  timestamps value      anomaly changepoint trend noise      seasonality1\n",
       "1 1416722400   6.470061 0       0           0       6.470061   0.0000    \n",
       "2 1416726000  80.972293 0       0           0     -11.077853  67.6000    \n",
       "3 1416729600 159.014680 0       0           0      -5.455761 117.0866    \n",
       "4 1416733200 214.721803 0       0           0      12.134172 135.2000    \n",
       "5 1416736800 201.695834 0       0           0       1.361684 117.0866    \n",
       "6 1416740400 172.005843 0       0           0      10.374710  67.6000    \n",
       "  seasonality2 seasonality3\n",
       "1  0.00000      0.000000   \n",
       "2 22.20667      2.243472   \n",
       "3 42.90000      4.483806   \n",
       "4 60.66976      6.717869   \n",
       "5 74.30498      8.942536   \n",
       "6 82.87644     11.154696   "
      ]
     },
     "metadata": {},
     "output_type": "display_data"
    }
   ],
   "source": [
    "head(dataset)"
   ]
  },
  {
   "cell_type": "markdown",
   "metadata": {
    "deletable": true,
    "editable": true
   },
   "source": [
    ">**snippet of the time series data**"
   ]
  },
  {
   "cell_type": "markdown",
   "metadata": {
    "deletable": true,
    "editable": true
   },
   "source": [
    "### Missing Data\n",
    "\n",
    "It is important to check for missing data prior to building the model. To impute missing data we will use the MICE package\n"
   ]
  },
  {
   "cell_type": "code",
   "execution_count": 36,
   "metadata": {
    "collapsed": false,
    "deletable": true,
    "editable": true
   },
   "outputs": [
    {
     "name": "stdout",
     "output_type": "stream",
     "text": [
      "\n",
      " Variables sorted by number of missings: \n",
      "     Variable Count\n",
      "   timestamps     0\n",
      "        value     0\n",
      "  changepoint     0\n",
      "        trend     0\n",
      "        noise     0\n",
      " seasonality1     0\n",
      " seasonality2     0\n",
      " seasonality3     0\n"
     ]
    },
    {
     "data": {
      "image/png": "[encoded data removed]",
      "text/plain": [
       "plot without title"
      ]
     },
     "metadata": {},
     "output_type": "display_data"
    }
   ],
   "source": [
    "library(mice)\n",
    "library(VIM)\n",
    "mice_plot <- aggr(dataset, col=c('navyblue','yellow'),\n",
    "                    numbers=TRUE, sortVars=TRUE,\n",
    "                    labels=names(dataset), cex.axis=.7,\n",
    "                    gap=3, ylab=c(\"Missing data\",\"Pattern\"))"
   ]
  },
  {
   "cell_type": "markdown",
   "metadata": {
    "deletable": true,
    "editable": true
   },
   "source": [
    "As indicated above our dataset has no missing values.\n",
    "\n",
    "### **Transformations**\n",
    "\n",
    "The summary statistics above indicated that our predictors were not on the same scale. Standardizing them would make our models easier to interpret and also save time on building the models. \n",
    "\n",
    "To do this, we first begin by saving the `anomaly` column into a variable `y` and remove it from the `dataset` dataframe"
   ]
  },
  {
   "cell_type": "code",
   "execution_count": 16,
   "metadata": {
    "collapsed": false,
    "deletable": true,
    "editable": true
   },
   "outputs": [
    {
     "name": "stdout",
     "output_type": "stream",
     "text": [
      "Y"
     ]
    },
    {
     "data": {
      "text/html": [
       "<ol class=list-inline>\n",
       "\t<li>0</li>\n",
       "\t<li>0</li>\n",
       "\t<li>0</li>\n",
       "\t<li>0</li>\n",
       "\t<li>0</li>\n",
       "\t<li>0</li>\n",
       "</ol>\n"
      ],
      "text/latex": [
       "\\begin{enumerate*}\n",
       "\\item 0\n",
       "\\item 0\n",
       "\\item 0\n",
       "\\item 0\n",
       "\\item 0\n",
       "\\item 0\n",
       "\\end{enumerate*}\n"
      ],
      "text/markdown": [
       "1. 0\n",
       "2. 0\n",
       "3. 0\n",
       "4. 0\n",
       "5. 0\n",
       "6. 0\n",
       "\n",
       "\n"
      ],
      "text/plain": [
       "[1] 0 0 0 0 0 0"
      ]
     },
     "metadata": {},
     "output_type": "display_data"
    },
    {
     "name": "stdout",
     "output_type": "stream",
     "text": [
      "X"
     ]
    },
    {
     "data": {
      "text/html": [
       "<table>\n",
       "<thead><tr><th scope=col>timestamps</th><th scope=col>value</th><th scope=col>changepoint</th><th scope=col>trend</th><th scope=col>noise</th><th scope=col>seasonality1</th><th scope=col>seasonality2</th><th scope=col>seasonality3</th></tr></thead>\n",
       "<tbody>\n",
       "\t<tr><td>1416722400</td><td>  6.470061</td><td>0         </td><td>0         </td><td>  6.470061</td><td>  0.0000  </td><td> 0.00000  </td><td> 0.000000 </td></tr>\n",
       "\t<tr><td>1416726000</td><td> 80.972293</td><td>0         </td><td>0         </td><td>-11.077853</td><td> 67.6000  </td><td>22.20667  </td><td> 2.243472 </td></tr>\n",
       "\t<tr><td>1416729600</td><td>159.014680</td><td>0         </td><td>0         </td><td> -5.455761</td><td>117.0866  </td><td>42.90000  </td><td> 4.483806 </td></tr>\n",
       "\t<tr><td>1416733200</td><td>214.721803</td><td>0         </td><td>0         </td><td> 12.134172</td><td>135.2000  </td><td>60.66976  </td><td> 6.717869 </td></tr>\n",
       "\t<tr><td>1416736800</td><td>201.695834</td><td>0         </td><td>0         </td><td>  1.361684</td><td>117.0866  </td><td>74.30498  </td><td> 8.942536 </td></tr>\n",
       "\t<tr><td>1416740400</td><td>172.005843</td><td>0         </td><td>0         </td><td> 10.374710</td><td> 67.6000  </td><td>82.87644  </td><td>11.154696 </td></tr>\n",
       "</tbody>\n",
       "</table>\n"
      ],
      "text/latex": [
       "\\begin{tabular}{r|llllllll}\n",
       " timestamps & value & changepoint & trend & noise & seasonality1 & seasonality2 & seasonality3\\\\\n",
       "\\hline\n",
       "\t 1416722400 &   6.470061 & 0          & 0          &   6.470061 &   0.0000   &  0.00000   &  0.000000 \\\\\n",
       "\t 1416726000 &  80.972293 & 0          & 0          & -11.077853 &  67.6000   & 22.20667   &  2.243472 \\\\\n",
       "\t 1416729600 & 159.014680 & 0          & 0          &  -5.455761 & 117.0866   & 42.90000   &  4.483806 \\\\\n",
       "\t 1416733200 & 214.721803 & 0          & 0          &  12.134172 & 135.2000   & 60.66976   &  6.717869 \\\\\n",
       "\t 1416736800 & 201.695834 & 0          & 0          &   1.361684 & 117.0866   & 74.30498   &  8.942536 \\\\\n",
       "\t 1416740400 & 172.005843 & 0          & 0          &  10.374710 &  67.6000   & 82.87644   & 11.154696 \\\\\n",
       "\\end{tabular}\n"
      ],
      "text/plain": [
       "  timestamps value      changepoint trend noise      seasonality1 seasonality2\n",
       "1 1416722400   6.470061 0           0       6.470061   0.0000      0.00000    \n",
       "2 1416726000  80.972293 0           0     -11.077853  67.6000     22.20667    \n",
       "3 1416729600 159.014680 0           0      -5.455761 117.0866     42.90000    \n",
       "4 1416733200 214.721803 0           0      12.134172 135.2000     60.66976    \n",
       "5 1416736800 201.695834 0           0       1.361684 117.0866     74.30498    \n",
       "6 1416740400 172.005843 0           0      10.374710  67.6000     82.87644    \n",
       "  seasonality3\n",
       "1  0.000000   \n",
       "2  2.243472   \n",
       "3  4.483806   \n",
       "4  6.717869   \n",
       "5  8.942536   \n",
       "6 11.154696   "
      ]
     },
     "metadata": {},
     "output_type": "display_data"
    }
   ],
   "source": [
    "y <- dataset[,3]\n",
    "x <- dataset[,-3]\n",
    "cat('Y')\n",
    "head(y)\n",
    "cat ('X')\n",
    "head(dataset)"
   ]
  },
  {
   "cell_type": "markdown",
   "metadata": {
    "deletable": true,
    "editable": true
   },
   "source": [
    ">**snippet of the `dataset` dataframe after removing the target cariable `anomaly`**"
   ]
  },
  {
   "cell_type": "markdown",
   "metadata": {
    "deletable": true,
    "editable": true
   },
   "source": [
    "#### Skewness\n",
    "\n",
    "We also check for skewness in the data using the `e1071` package which calculates the sample `skewness statistic` for each predictor."
   ]
  },
  {
   "cell_type": "code",
   "execution_count": 19,
   "metadata": {
    "collapsed": false,
    "deletable": true,
    "editable": true
   },
   "outputs": [
    {
     "data": {
      "text/html": [
       "<dl class=dl-horizontal>\n",
       "\t<dt>timestamps</dt>\n",
       "\t\t<dd>0</dd>\n",
       "\t<dt>value</dt>\n",
       "\t\t<dd>-0.169731344525992</dd>\n",
       "\t<dt>trend</dt>\n",
       "\t\t<dd>-0.163896618243957</dd>\n",
       "\t<dt>noise</dt>\n",
       "\t\t<dd>0.0252930711938632</dd>\n",
       "\t<dt>seasonality1</dt>\n",
       "\t\t<dd>6.63313924896381e-16</dd>\n",
       "\t<dt>seasonality2</dt>\n",
       "\t\t<dd>1.6569203818992e-16</dd>\n",
       "</dl>\n"
      ],
      "text/latex": [
       "\\begin{description*}\n",
       "\\item[timestamps] 0\n",
       "\\item[value] -0.169731344525992\n",
       "\\item[trend] -0.163896618243957\n",
       "\\item[noise] 0.0252930711938632\n",
       "\\item[seasonality1] 6.63313924896381e-16\n",
       "\\item[seasonality2] 1.6569203818992e-16\n",
       "\\end{description*}\n"
      ],
      "text/markdown": [
       "timestamps\n",
       ":   0value\n",
       ":   -0.169731344525992trend\n",
       ":   -0.163896618243957noise\n",
       ":   0.0252930711938632seasonality1\n",
       ":   6.63313924896381e-16seasonality2\n",
       ":   1.6569203818992e-16\n",
       "\n"
      ],
      "text/plain": [
       "   timestamps         value         trend         noise  seasonality1 \n",
       " 0.000000e+00 -1.697313e-01 -1.638966e-01  2.529307e-02  6.633139e-16 \n",
       " seasonality2 \n",
       " 1.656920e-16 "
      ]
     },
     "metadata": {},
     "output_type": "display_data"
    }
   ],
   "source": [
    "library(e1071)\n",
    "skewValues <- apply(x, 2, skewness)\n",
    "head(skewValues)"
   ]
  },
  {
   "cell_type": "markdown",
   "metadata": {
    "deletable": true,
    "editable": true
   },
   "source": [
    "Asses shape of distribution"
   ]
  },
  {
   "cell_type": "code",
   "execution_count": 26,
   "metadata": {
    "collapsed": false,
    "deletable": true,
    "editable": true
   },
   "outputs": [
    {
     "data": {
      "text/html": [
       "<table>\n",
       "<thead><tr><th scope=col>value</th><th scope=col>trend</th><th scope=col>noise</th><th scope=col>seasonality1</th><th scope=col>seasonality2</th><th scope=col>seasonality3</th></tr></thead>\n",
       "<tbody>\n",
       "\t<tr><td>  6.470061</td><td>0         </td><td>  6.470061</td><td>  0.0000  </td><td> 0.00000  </td><td> 0.000000 </td></tr>\n",
       "\t<tr><td> 80.972293</td><td>0         </td><td>-11.077853</td><td> 67.6000  </td><td>22.20667  </td><td> 2.243472 </td></tr>\n",
       "\t<tr><td>159.014680</td><td>0         </td><td> -5.455761</td><td>117.0866  </td><td>42.90000  </td><td> 4.483806 </td></tr>\n",
       "\t<tr><td>214.721803</td><td>0         </td><td> 12.134172</td><td>135.2000  </td><td>60.66976  </td><td> 6.717869 </td></tr>\n",
       "\t<tr><td>201.695834</td><td>0         </td><td>  1.361684</td><td>117.0866  </td><td>74.30498  </td><td> 8.942536 </td></tr>\n",
       "\t<tr><td>172.005843</td><td>0         </td><td> 10.374710</td><td> 67.6000  </td><td>82.87644  </td><td>11.154696 </td></tr>\n",
       "</tbody>\n",
       "</table>\n"
      ],
      "text/latex": [
       "\\begin{tabular}{r|llllll}\n",
       " value & trend & noise & seasonality1 & seasonality2 & seasonality3\\\\\n",
       "\\hline\n",
       "\t   6.470061 & 0          &   6.470061 &   0.0000   &  0.00000   &  0.000000 \\\\\n",
       "\t  80.972293 & 0          & -11.077853 &  67.6000   & 22.20667   &  2.243472 \\\\\n",
       "\t 159.014680 & 0          &  -5.455761 & 117.0866   & 42.90000   &  4.483806 \\\\\n",
       "\t 214.721803 & 0          &  12.134172 & 135.2000   & 60.66976   &  6.717869 \\\\\n",
       "\t 201.695834 & 0          &   1.361684 & 117.0866   & 74.30498   &  8.942536 \\\\\n",
       "\t 172.005843 & 0          &  10.374710 &  67.6000   & 82.87644   & 11.154696 \\\\\n",
       "\\end{tabular}\n"
      ],
      "text/plain": [
       "  value      trend noise      seasonality1 seasonality2 seasonality3\n",
       "1   6.470061 0       6.470061   0.0000      0.00000      0.000000   \n",
       "2  80.972293 0     -11.077853  67.6000     22.20667      2.243472   \n",
       "3 159.014680 0      -5.455761 117.0866     42.90000      4.483806   \n",
       "4 214.721803 0      12.134172 135.2000     60.66976      6.717869   \n",
       "5 201.695834 0       1.361684 117.0866     74.30498      8.942536   \n",
       "6 172.005843 0      10.374710  67.6000     82.87644     11.154696   "
      ]
     },
     "metadata": {},
     "output_type": "display_data"
    },
    {
     "data": {
      "image/png": "[encoded data removed]",
      "text/plain": [
       "Plot with title “Histogram of skewValues”"
      ]
     },
     "metadata": {},
     "output_type": "display_data"
    }
   ],
   "source": [
    "hist(skewValues)\n",
    "head(x[,-1])"
   ]
  },
  {
   "cell_type": "markdown",
   "metadata": {
    "deletable": true,
    "editable": true
   },
   "source": [
    "We consider the data to be extremely skewed if the ratio of the highest value to the lowest is greater than 20"
   ]
  },
  {
   "cell_type": "code",
   "execution_count": 25,
   "metadata": {
    "collapsed": false,
    "deletable": true,
    "editable": true
   },
   "outputs": [
    {
     "name": "stdout",
     "output_type": "stream",
     "text": [
      "Ratio of highest to lowest skew value 1.526511e+14"
     ]
    }
   ],
   "source": [
    "ratio <- skewValues[\"noise\"]/skewValues[\"seasonality2\"]\n",
    "cat(\"Ratio of highest to lowest skew value\",ratio)"
   ]
  },
  {
   "cell_type": "markdown",
   "metadata": {
    "deletable": true,
    "editable": true
   },
   "source": [
    "A value of 1.526511e+14 indicates that our data has extreme skewness. This is also indicated in the histogram above. As a result we need to standardize our data.\n",
    "\n",
    "#### BoxCox transformation\n",
    "\n",
    "To standardize our data we use the `caret` function `preProcess` which applies transformations to a set of predictors.\n",
    "\n",
    "We will exclude the `timestamp` from this transformation"
   ]
  },
  {
   "cell_type": "code",
   "execution_count": 28,
   "metadata": {
    "collapsed": false,
    "deletable": true,
    "editable": true
   },
   "outputs": [
    {
     "name": "stderr",
     "output_type": "stream",
     "text": [
      "Loading required package: lattice\n",
      "Loading required package: ggplot2\n"
     ]
    },
    {
     "data": {
      "text/plain": [
       "Created from 169680 samples and 6 variables\n",
       "\n",
       "Pre-processing:\n",
       "  - centered (6)\n",
       "  - ignored (0)\n",
       "  - scaled (6)\n"
      ]
     },
     "metadata": {},
     "output_type": "display_data"
    }
   ],
   "source": [
    "library(caret)\n",
    "trans <- preProcess(x[,-1],\n",
    "                    method = c(\"BoxCox\", \"center\", \"scale\"))\n",
    "trans"
   ]
  },
  {
   "cell_type": "markdown",
   "metadata": {
    "deletable": true,
    "editable": true
   },
   "source": [
    "#### **apply transformations**"
   ]
  },
  {
   "cell_type": "code",
   "execution_count": 37,
   "metadata": {
    "collapsed": false,
    "deletable": true,
    "editable": true
   },
   "outputs": [
    {
     "name": "stderr",
     "output_type": "stream",
     "text": [
      "Warning message in is.na(lam):\n",
      "“is.na() applied to non-(list or vector) of type 'NULL'”"
     ]
    },
    {
     "data": {
      "text/html": [
       "<table>\n",
       "<thead><tr><th scope=col>timestamps</th><th scope=col>value</th><th scope=col>trend</th><th scope=col>noise</th><th scope=col>seasonality1</th><th scope=col>seasonality2</th><th scope=col>seasonality3</th></tr></thead>\n",
       "<tbody>\n",
       "\t<tr><td>1416722400   </td><td>0.03407135   </td><td>0.03150748   </td><td> 0.07685769  </td><td>2.501110e-16 </td><td>-4.501564e-18</td><td>7.797788e-17 </td></tr>\n",
       "\t<tr><td>1416726000   </td><td>0.07290769   </td><td>0.03150748   </td><td>-0.12535642  </td><td>1.881166e-01 </td><td> 7.961877e-02</td><td>1.166703e-02 </td></tr>\n",
       "\t<tr><td>1416729600   </td><td>0.11358943   </td><td>0.03150748   </td><td>-0.06057001  </td><td>3.258275e-01 </td><td> 1.538116e-01</td><td>2.331775e-02 </td></tr>\n",
       "\t<tr><td>1416733200   </td><td>0.14262830   </td><td>0.03150748   </td><td> 0.14212831  </td><td>3.762332e-01 </td><td> 2.175225e-01</td><td>3.493585e-02 </td></tr>\n",
       "\t<tr><td>1416736800   </td><td>0.13583816   </td><td>0.03150748   </td><td> 0.01799110  </td><td>3.258275e-01 </td><td> 2.664096e-01</td><td>4.650509e-02 </td></tr>\n",
       "\t<tr><td>1416740400   </td><td>0.12036143   </td><td>0.03150748   </td><td> 0.12185308  </td><td>1.881166e-01 </td><td> 2.971413e-01</td><td>5.800929e-02 </td></tr>\n",
       "</tbody>\n",
       "</table>\n"
      ],
      "text/latex": [
       "\\begin{tabular}{r|lllllll}\n",
       " timestamps & value & trend & noise & seasonality1 & seasonality2 & seasonality3\\\\\n",
       "\\hline\n",
       "\t 1416722400    & 0.03407135    & 0.03150748    &  0.07685769   & 2.501110e-16  & -4.501564e-18 & 7.797788e-17 \\\\\n",
       "\t 1416726000    & 0.07290769    & 0.03150748    & -0.12535642   & 1.881166e-01  &  7.961877e-02 & 1.166703e-02 \\\\\n",
       "\t 1416729600    & 0.11358943    & 0.03150748    & -0.06057001   & 3.258275e-01  &  1.538116e-01 & 2.331775e-02 \\\\\n",
       "\t 1416733200    & 0.14262830    & 0.03150748    &  0.14212831   & 3.762332e-01  &  2.175225e-01 & 3.493585e-02 \\\\\n",
       "\t 1416736800    & 0.13583816    & 0.03150748    &  0.01799110   & 3.258275e-01  &  2.664096e-01 & 4.650509e-02 \\\\\n",
       "\t 1416740400    & 0.12036143    & 0.03150748    &  0.12185308   & 1.881166e-01  &  2.971413e-01 & 5.800929e-02 \\\\\n",
       "\\end{tabular}\n"
      ],
      "text/plain": [
       "  timestamps value      trend      noise       seasonality1 seasonality2 \n",
       "1 1416722400 0.03407135 0.03150748  0.07685769 2.501110e-16 -4.501564e-18\n",
       "2 1416726000 0.07290769 0.03150748 -0.12535642 1.881166e-01  7.961877e-02\n",
       "3 1416729600 0.11358943 0.03150748 -0.06057001 3.258275e-01  1.538116e-01\n",
       "4 1416733200 0.14262830 0.03150748  0.14212831 3.762332e-01  2.175225e-01\n",
       "5 1416736800 0.13583816 0.03150748  0.01799110 3.258275e-01  2.664096e-01\n",
       "6 1416740400 0.12036143 0.03150748  0.12185308 1.881166e-01  2.971413e-01\n",
       "  seasonality3\n",
       "1 7.797788e-17\n",
       "2 1.166703e-02\n",
       "3 2.331775e-02\n",
       "4 3.493585e-02\n",
       "5 4.650509e-02\n",
       "6 5.800929e-02"
      ]
     },
     "metadata": {},
     "output_type": "display_data"
    }
   ],
   "source": [
    "x_trans <- predict(trans, x)\n",
    "head(x_trans)"
   ]
  },
  {
   "cell_type": "markdown",
   "metadata": {
    "deletable": true,
    "editable": true
   },
   "source": [
    "### Filtering\n",
    "\n",
    "To filter near-zero variance predictors, the `caret` package function `nearZeroVar` will return the column numbers of any predictors that don't explain the variance in the data.\n",
    "\n",
    "When a vector should be removed, a vector of integers is returned that indicates which columns should be removed"
   ]
  },
  {
   "cell_type": "code",
   "execution_count": 38,
   "metadata": {
    "collapsed": false,
    "deletable": true,
    "editable": true
   },
   "outputs": [
    {
     "data": {
      "text/html": [
       "3"
      ],
      "text/latex": [
       "3"
      ],
      "text/markdown": [
       "3"
      ],
      "text/plain": [
       "[1] 3"
      ]
     },
     "metadata": {},
     "output_type": "display_data"
    }
   ],
   "source": [
    "nearZeroVar(x_trans)"
   ]
  },
  {
   "cell_type": "markdown",
   "metadata": {
    "deletable": true,
    "editable": true
   },
   "source": [
    "We now remove the `trend` predictor because it has a near-zero variance. This predictor unlikely to improve our predictive accuracy"
   ]
  },
  {
   "cell_type": "code",
   "execution_count": 40,
   "metadata": {
    "collapsed": false,
    "deletable": true,
    "editable": true
   },
   "outputs": [
    {
     "data": {
      "text/html": [
       "<table>\n",
       "<thead><tr><th scope=col>timestamps</th><th scope=col>value</th><th scope=col>noise</th><th scope=col>seasonality1</th><th scope=col>seasonality2</th><th scope=col>seasonality3</th></tr></thead>\n",
       "<tbody>\n",
       "\t<tr><td>1416722400   </td><td>0.03407135   </td><td> 0.07685769  </td><td>2.501110e-16 </td><td>-4.501564e-18</td><td>7.797788e-17 </td></tr>\n",
       "\t<tr><td>1416726000   </td><td>0.07290769   </td><td>-0.12535642  </td><td>1.881166e-01 </td><td> 7.961877e-02</td><td>1.166703e-02 </td></tr>\n",
       "\t<tr><td>1416729600   </td><td>0.11358943   </td><td>-0.06057001  </td><td>3.258275e-01 </td><td> 1.538116e-01</td><td>2.331775e-02 </td></tr>\n",
       "\t<tr><td>1416733200   </td><td>0.14262830   </td><td> 0.14212831  </td><td>3.762332e-01 </td><td> 2.175225e-01</td><td>3.493585e-02 </td></tr>\n",
       "\t<tr><td>1416736800   </td><td>0.13583816   </td><td> 0.01799110  </td><td>3.258275e-01 </td><td> 2.664096e-01</td><td>4.650509e-02 </td></tr>\n",
       "\t<tr><td>1416740400   </td><td>0.12036143   </td><td> 0.12185308  </td><td>1.881166e-01 </td><td> 2.971413e-01</td><td>5.800929e-02 </td></tr>\n",
       "</tbody>\n",
       "</table>\n"
      ],
      "text/latex": [
       "\\begin{tabular}{r|llllll}\n",
       " timestamps & value & noise & seasonality1 & seasonality2 & seasonality3\\\\\n",
       "\\hline\n",
       "\t 1416722400    & 0.03407135    &  0.07685769   & 2.501110e-16  & -4.501564e-18 & 7.797788e-17 \\\\\n",
       "\t 1416726000    & 0.07290769    & -0.12535642   & 1.881166e-01  &  7.961877e-02 & 1.166703e-02 \\\\\n",
       "\t 1416729600    & 0.11358943    & -0.06057001   & 3.258275e-01  &  1.538116e-01 & 2.331775e-02 \\\\\n",
       "\t 1416733200    & 0.14262830    &  0.14212831   & 3.762332e-01  &  2.175225e-01 & 3.493585e-02 \\\\\n",
       "\t 1416736800    & 0.13583816    &  0.01799110   & 3.258275e-01  &  2.664096e-01 & 4.650509e-02 \\\\\n",
       "\t 1416740400    & 0.12036143    &  0.12185308   & 1.881166e-01  &  2.971413e-01 & 5.800929e-02 \\\\\n",
       "\\end{tabular}\n"
      ],
      "text/plain": [
       "  timestamps value      noise       seasonality1 seasonality2  seasonality3\n",
       "1 1416722400 0.03407135  0.07685769 2.501110e-16 -4.501564e-18 7.797788e-17\n",
       "2 1416726000 0.07290769 -0.12535642 1.881166e-01  7.961877e-02 1.166703e-02\n",
       "3 1416729600 0.11358943 -0.06057001 3.258275e-01  1.538116e-01 2.331775e-02\n",
       "4 1416733200 0.14262830  0.14212831 3.762332e-01  2.175225e-01 3.493585e-02\n",
       "5 1416736800 0.13583816  0.01799110 3.258275e-01  2.664096e-01 4.650509e-02\n",
       "6 1416740400 0.12036143  0.12185308 1.881166e-01  2.971413e-01 5.800929e-02"
      ]
     },
     "metadata": {},
     "output_type": "display_data"
    }
   ],
   "source": [
    "x_trans <- x_trans[,-3]\n",
    "head(x_trans)"
   ]
  },
  {
   "cell_type": "markdown",
   "metadata": {
    "deletable": true,
    "editable": true
   },
   "source": [
    "### Correlation\n",
    "\n",
    "Correlated predictors do not add any extra knowledge to our model. In order to simplify our model we need to remove the correlated predictors. The `cor` function can calculate the correlations between predictor variables. To visualize the correlation data structure we use `corrplot` package"
   ]
  },
  {
   "cell_type": "code",
   "execution_count": 46,
   "metadata": {
    "collapsed": false,
    "deletable": true,
    "editable": true
   },
   "outputs": [
    {
     "data": {
      "text/html": [
       "<table>\n",
       "<thead><tr><th></th><th scope=col>timestamps</th><th scope=col>value</th><th scope=col>noise</th><th scope=col>seasonality1</th><th scope=col>seasonality2</th><th scope=col>seasonality3</th></tr></thead>\n",
       "<tbody>\n",
       "\t<tr><th scope=row>timestamps</th><td> 1.000000000 </td><td>-0.02594959  </td><td>-0.0018780573</td><td>-4.697417e-03</td><td>-9.264234e-03</td><td>-6.299239e-02</td></tr>\n",
       "\t<tr><th scope=row>value</th><td>-0.025949589 </td><td> 1.00000000  </td><td> 0.0461569071</td><td> 1.877230e-01</td><td> 1.457534e-01</td><td> 1.021793e-01</td></tr>\n",
       "\t<tr><th scope=row>noise</th><td>-0.001878057 </td><td> 0.04615691  </td><td> 1.0000000000</td><td> 4.110017e-03</td><td> 9.919681e-04</td><td> 1.417808e-03</td></tr>\n",
       "\t<tr><th scope=row>seasonality1</th><td>-0.004697417 </td><td> 0.18772303  </td><td> 0.0041100167</td><td> 1.000000e+00</td><td> 2.041722e-16</td><td> 1.047899e-15</td></tr>\n",
       "\t<tr><th scope=row>seasonality2</th><td>-0.009264234 </td><td> 0.14575345  </td><td> 0.0009919681</td><td> 2.041722e-16</td><td> 1.000000e+00</td><td> 6.267565e-17</td></tr>\n",
       "\t<tr><th scope=row>seasonality3</th><td>-0.062992389 </td><td> 0.10217932  </td><td> 0.0014178081</td><td> 1.047899e-15</td><td> 6.267565e-17</td><td> 1.000000e+00</td></tr>\n",
       "</tbody>\n",
       "</table>\n"
      ],
      "text/latex": [
       "\\begin{tabular}{r|llllll}\n",
       "  & timestamps & value & noise & seasonality1 & seasonality2 & seasonality3\\\\\n",
       "\\hline\n",
       "\ttimestamps &  1.000000000  & -0.02594959   & -0.0018780573 & -4.697417e-03 & -9.264234e-03 & -6.299239e-02\\\\\n",
       "\tvalue & -0.025949589  &  1.00000000   &  0.0461569071 &  1.877230e-01 &  1.457534e-01 &  1.021793e-01\\\\\n",
       "\tnoise & -0.001878057  &  0.04615691   &  1.0000000000 &  4.110017e-03 &  9.919681e-04 &  1.417808e-03\\\\\n",
       "\tseasonality1 & -0.004697417  &  0.18772303   &  0.0041100167 &  1.000000e+00 &  2.041722e-16 &  1.047899e-15\\\\\n",
       "\tseasonality2 & -0.009264234  &  0.14575345   &  0.0009919681 &  2.041722e-16 &  1.000000e+00 &  6.267565e-17\\\\\n",
       "\tseasonality3 & -0.062992389  &  0.10217932   &  0.0014178081 &  1.047899e-15 &  6.267565e-17 &  1.000000e+00\\\\\n",
       "\\end{tabular}\n"
      ],
      "text/markdown": [
       "1. 1\n",
       "2. -0.0259495887818499\n",
       "3. -0.00187805730954554\n",
       "4. -0.00469741724947852\n",
       "5. -0.00926423398562183\n",
       "6. -0.0629923894226508\n",
       "7. -0.0259495887818499\n",
       "8. 1\n",
       "9. 0.0461569071071136\n",
       "10. 0.187723032062595\n",
       "11. 0.145753447356447\n",
       "12. 0.102179318420599\n",
       "13. -0.00187805730954554\n",
       "14. 0.0461569071071136\n",
       "15. 1\n",
       "16. 0.00411001674299548\n",
       "17. 0.000991968069110386\n",
       "18. 0.00141780810901371\n",
       "19. -0.00469741724947852\n",
       "20. 0.187723032062595\n",
       "21. 0.00411001674299548\n",
       "22. 1\n",
       "23. 2.04172236994137e-16\n",
       "24. 1.04789895943071e-15\n",
       "25. -0.00926423398562183\n",
       "26. 0.145753447356447\n",
       "27. 0.000991968069110386\n",
       "28. 2.04172236994137e-16\n",
       "29. 1\n",
       "30. 6.2675653550503e-17\n",
       "31. -0.0629923894226508\n",
       "32. 0.102179318420599\n",
       "33. 0.00141780810901371\n",
       "34. 1.04789895943071e-15\n",
       "35. 6.2675653550503e-17\n",
       "36. 1\n",
       "\n",
       "\n"
      ],
      "text/plain": [
       "             timestamps   value       noise         seasonality1  seasonality2 \n",
       "timestamps    1.000000000 -0.02594959 -0.0018780573 -4.697417e-03 -9.264234e-03\n",
       "value        -0.025949589  1.00000000  0.0461569071  1.877230e-01  1.457534e-01\n",
       "noise        -0.001878057  0.04615691  1.0000000000  4.110017e-03  9.919681e-04\n",
       "seasonality1 -0.004697417  0.18772303  0.0041100167  1.000000e+00  2.041722e-16\n",
       "seasonality2 -0.009264234  0.14575345  0.0009919681  2.041722e-16  1.000000e+00\n",
       "seasonality3 -0.062992389  0.10217932  0.0014178081  1.047899e-15  6.267565e-17\n",
       "             seasonality3 \n",
       "timestamps   -6.299239e-02\n",
       "value         1.021793e-01\n",
       "noise         1.417808e-03\n",
       "seasonality1  1.047899e-15\n",
       "seasonality2  6.267565e-17\n",
       "seasonality3  1.000000e+00"
      ]
     },
     "metadata": {},
     "output_type": "display_data"
    },
    {
     "data": {
      "text/html": [
       "0"
      ],
      "text/latex": [
       "0"
      ],
      "text/markdown": [
       "0"
      ],
      "text/plain": [
       "[1] 0"
      ]
     },
     "metadata": {},
     "output_type": "display_data"
    },
    {
     "data": {
      "image/png": "[encoded data removed]",
      "text/plain": [
       "Plot with title “”"
      ]
     },
     "metadata": {},
     "output_type": "display_data"
    }
   ],
   "source": [
    "correlations <- cor(x_trans)\n",
    "correlations[1:6, 1:6]\n",
    "library(corrplot)\n",
    "corrplot(correlations, order=\"hclust\")\n",
    "highCorr <- findCorrelation(correlations, cutoff = .75)\n",
    "length(highCorr)"
   ]
  },
  {
   "cell_type": "markdown",
   "metadata": {
    "deletable": true,
    "editable": true
   },
   "source": [
    "It does not appear that any of our predictors have a high correlation."
   ]
  },
  {
   "cell_type": "markdown",
   "metadata": {
    "collapsed": true,
    "deletable": true,
    "editable": true
   },
   "source": [
    "## Tools\n",
    "\n",
    "Since we are all new to anomaly/outlier detection, we plan on taking multiple approaches to solve.  We will most likely use R and Python libraries to help is developing a solution.\n",
    "\n",
    "## Deliverable\n",
    "\n",
    "A confusion matrix along with key metrics such as Recall, Precision, F1-score, Balance Accuracy.  Also, graphical summary such as ROC curve and Precision-Recall Plot. "
   ]
  }
 ],
 "metadata": {
  "kernelspec": {
   "display_name": "R",
   "language": "R",
   "name": "ir"
  },
  "language_info": {
   "codemirror_mode": "r",
   "file_extension": ".r",
   "mimetype": "text/x-r-source",
   "name": "R",
   "pygments_lexer": "r",
   "version": "3.2.3"
  }
 },
 "nbformat": 4,
 "nbformat_minor": 0
}
