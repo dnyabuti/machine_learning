{
 "cells": [
  {
   "cell_type": "markdown",
   "metadata": {
    "deletable": true,
    "editable": true
   },
   "source": [
    "# Time Series Anomaly Detection\n",
    "\n",
    "\n",
    "## Problem Statement\n",
    "\n",
    "There are periods of time where yahoo expects higher than normal network traffic. One example of such a period of high network traffic is during March Madness when users of their services are constantly checking their performance on the fantasy leagues. This kind of anomaly is expected. The challenge for Yahoo is being able to distinguish between the expected anomalies and those that aren’t. Yahoo Webscope data sharing program provides a dataset that can be used to test and validate anomaly detection algorithms.\n",
    "\n",
    "## Data Selection\n",
    "\n",
    "**Announcing A Benchmark Dataset for Time Series Anomaly Detection**\n",
    "\n",
    "https://research.yahoo.com/news/announcing-benchmark-dataset-time-series-anomaly-detection\n",
    "\n",
    "These Webscope Datasets available from Yahoo! Labs requires one to request access to download it. Approval could take up to a week.\n",
    "\n",
    "We will chose 1 of 4 available datasets, in which the data is labeled.  The data is highly unbalanced, with anomalies representing 0.56% of the data.\n",
    "\n",
    "### Description\n",
    "\n",
    "The Webscope Dataset we used contained 100 csv files with a total of 169680 rows of time series data. In this dataset there are 8 predictors and 1 target column. All of the predictors are numerical. Using this dataset we intend to build time series models that can identify anomalies.\n",
    "\n",
    "## Data Preprocessing & Summary\n",
    "\n",
    "We used **`python`** and **`R`** to analyze the dataset. \n",
    "\n",
    "### Loading the data using R"
   ]
  },
  {
   "cell_type": "code",
   "execution_count": 3,
   "metadata": {
    "collapsed": false,
    "deletable": true,
    "editable": true
   },
   "outputs": [
    {
     "ename": "ERROR",
     "evalue": "Error in setwd(\"./data\"): cannot change working directory\n",
     "output_type": "error",
     "traceback": [
      "Error in setwd(\"./data\"): cannot change working directory\nTraceback:\n",
      "1. setwd(\"./data\")"
     ]
    }
   ],
   "source": [
    "setwd(\"./data\")"
   ]
  },
  {
   "cell_type": "code",
   "execution_count": 18,
   "metadata": {
    "collapsed": false,
    "deletable": true,
    "editable": true
   },
   "outputs": [],
   "source": [
    "file_list <- list.files(\".\")\n",
    "if (exists(\"dataset\")){\n",
    "  rm(dataset)\n",
    "}\n",
    "for (file in file_list){\n",
    "  \n",
    "  # if the merged dataset doesn't exist, create it\n",
    "  if (!exists(\"dataset\")){\n",
    "    dataset <- read.csv(file, header=TRUE, sep=\",\")\n",
    "  }\n",
    "  \n",
    "  # if the merged dataset does exist, append to it\n",
    "  if (exists(\"dataset\")){\n",
    "    temp_dataset <-read.csv(file, header=TRUE, sep=\",\")\n",
    "    dataset<-rbind(dataset, temp_dataset)\n",
    "    rm(temp_dataset)\n",
    "  }\n",
    "  \n",
    "}"
   ]
  },
  {
   "cell_type": "markdown",
   "metadata": {
    "deletable": true,
    "editable": true
   },
   "source": [
    "### Summary"
   ]
  },
  {
   "cell_type": "code",
   "execution_count": 19,
   "metadata": {
    "collapsed": false,
    "deletable": true,
    "editable": true
   },
   "outputs": [
    {
     "data": {
      "text/plain": [
       "   timestamps            value             anomaly          changepoint\n",
       " Min.   :1.417e+09   Min.   :-7987.86   Min.   :0.000000   Min.   :0   \n",
       " 1st Qu.:1.418e+09   1st Qu.: -977.93   1st Qu.:0.000000   1st Qu.:0   \n",
       " Median :1.420e+09   Median :   23.94   Median :0.000000   Median :0   \n",
       " Mean   :1.420e+09   Mean   :  -58.89   Mean   :0.005616   Mean   :0   \n",
       " 3rd Qu.:1.421e+09   3rd Qu.:  947.70   3rd Qu.:0.000000   3rd Qu.:0   \n",
       " Max.   :1.423e+09   Max.   : 7006.21   Max.   :1.000000   Max.   :0   \n",
       "     trend              noise            seasonality1     seasonality2   \n",
       " Min.   :-5040.00   Min.   :-877.8337   Min.   :-955.0   Min.   :-920.0  \n",
       " 1st Qu.: -858.00   1st Qu.: -23.8288   1st Qu.:-233.7   1st Qu.:-151.7  \n",
       " Median :    0.00   Median :   0.0142   Median :   0.0   Median :   0.0  \n",
       " Mean   :  -58.25   Mean   :  -0.1996   Mean   :   0.0   Mean   :   0.0  \n",
       " 3rd Qu.:  853.00   3rd Qu.:  23.6788   3rd Qu.: 233.7   3rd Qu.: 151.7  \n",
       " Max.   : 5040.00   Max.   : 961.3856   Max.   : 955.0   Max.   : 920.0  \n",
       "  seasonality3    \n",
       " Min.   :-792.00  \n",
       " 1st Qu.: -99.29  \n",
       " Median :   0.00  \n",
       " Mean   :   0.00  \n",
       " 3rd Qu.:  99.29  \n",
       " Max.   : 792.00  "
      ]
     },
     "metadata": {},
     "output_type": "display_data"
    },
    {
     "name": "stdout",
     "output_type": "stream",
     "text": [
      "Number of rows is  169680"
     ]
    }
   ],
   "source": [
    "summary(dataset)\n",
    "cat('Number of rows is ',nrow(dataset))"
   ]
  },
  {
   "cell_type": "markdown",
   "metadata": {
    "deletable": true,
    "editable": true
   },
   "source": [
    "From the output above it can be observed that our dataset contains 169680 rows of data. Additional summary statistics have also been included. It can be observed that the predictors will require standardization because they are not all on the same scale\n"
   ]
  },
  {
   "cell_type": "code",
   "execution_count": 20,
   "metadata": {
    "collapsed": false,
    "deletable": true,
    "editable": true
   },
   "outputs": [
    {
     "data": {
      "text/html": [
       "<table>\n",
       "<thead><tr><th scope=col>timestamps</th><th scope=col>value</th><th scope=col>anomaly</th><th scope=col>changepoint</th><th scope=col>trend</th><th scope=col>noise</th><th scope=col>seasonality1</th><th scope=col>seasonality2</th><th scope=col>seasonality3</th></tr></thead>\n",
       "<tbody>\n",
       "\t<tr><td>1416722400</td><td>  6.470061</td><td>0         </td><td>0         </td><td>0         </td><td>  6.470061</td><td>  0.0000  </td><td> 0.00000  </td><td> 0.000000 </td></tr>\n",
       "\t<tr><td>1416726000</td><td> 80.972293</td><td>0         </td><td>0         </td><td>0         </td><td>-11.077853</td><td> 67.6000  </td><td>22.20667  </td><td> 2.243472 </td></tr>\n",
       "\t<tr><td>1416729600</td><td>159.014680</td><td>0         </td><td>0         </td><td>0         </td><td> -5.455761</td><td>117.0866  </td><td>42.90000  </td><td> 4.483806 </td></tr>\n",
       "\t<tr><td>1416733200</td><td>214.721803</td><td>0         </td><td>0         </td><td>0         </td><td> 12.134172</td><td>135.2000  </td><td>60.66976  </td><td> 6.717869 </td></tr>\n",
       "\t<tr><td>1416736800</td><td>201.695834</td><td>0         </td><td>0         </td><td>0         </td><td>  1.361684</td><td>117.0866  </td><td>74.30498  </td><td> 8.942536 </td></tr>\n",
       "\t<tr><td>1416740400</td><td>172.005843</td><td>0         </td><td>0         </td><td>0         </td><td> 10.374710</td><td> 67.6000  </td><td>82.87644  </td><td>11.154696 </td></tr>\n",
       "</tbody>\n",
       "</table>\n"
      ],
      "text/latex": [
       "\\begin{tabular}{r|lllllllll}\n",
       " timestamps & value & anomaly & changepoint & trend & noise & seasonality1 & seasonality2 & seasonality3\\\\\n",
       "\\hline\n",
       "\t 1416722400 &   6.470061 & 0          & 0          & 0          &   6.470061 &   0.0000   &  0.00000   &  0.000000 \\\\\n",
       "\t 1416726000 &  80.972293 & 0          & 0          & 0          & -11.077853 &  67.6000   & 22.20667   &  2.243472 \\\\\n",
       "\t 1416729600 & 159.014680 & 0          & 0          & 0          &  -5.455761 & 117.0866   & 42.90000   &  4.483806 \\\\\n",
       "\t 1416733200 & 214.721803 & 0          & 0          & 0          &  12.134172 & 135.2000   & 60.66976   &  6.717869 \\\\\n",
       "\t 1416736800 & 201.695834 & 0          & 0          & 0          &   1.361684 & 117.0866   & 74.30498   &  8.942536 \\\\\n",
       "\t 1416740400 & 172.005843 & 0          & 0          & 0          &  10.374710 &  67.6000   & 82.87644   & 11.154696 \\\\\n",
       "\\end{tabular}\n"
      ],
      "text/markdown": [
       "\n",
       "timestamps | value | anomaly | changepoint | trend | noise | seasonality1 | seasonality2 | seasonality3 | \n",
       "|---|---|---|---|---|---|\n",
       "| 1416722400 |   6.470061 | 0          | 0          | 0          |   6.470061 |   0.0000   |  0.00000   |  0.000000  | \n",
       "| 1416726000 |  80.972293 | 0          | 0          | 0          | -11.077853 |  67.6000   | 22.20667   |  2.243472  | \n",
       "| 1416729600 | 159.014680 | 0          | 0          | 0          |  -5.455761 | 117.0866   | 42.90000   |  4.483806  | \n",
       "| 1416733200 | 214.721803 | 0          | 0          | 0          |  12.134172 | 135.2000   | 60.66976   |  6.717869  | \n",
       "| 1416736800 | 201.695834 | 0          | 0          | 0          |   1.361684 | 117.0866   | 74.30498   |  8.942536  | \n",
       "| 1416740400 | 172.005843 | 0          | 0          | 0          |  10.374710 |  67.6000   | 82.87644   | 11.154696  | \n",
       "\n",
       "\n"
      ],
      "text/plain": [
       "  timestamps value      anomaly changepoint trend noise      seasonality1\n",
       "1 1416722400   6.470061 0       0           0       6.470061   0.0000    \n",
       "2 1416726000  80.972293 0       0           0     -11.077853  67.6000    \n",
       "3 1416729600 159.014680 0       0           0      -5.455761 117.0866    \n",
       "4 1416733200 214.721803 0       0           0      12.134172 135.2000    \n",
       "5 1416736800 201.695834 0       0           0       1.361684 117.0866    \n",
       "6 1416740400 172.005843 0       0           0      10.374710  67.6000    \n",
       "  seasonality2 seasonality3\n",
       "1  0.00000      0.000000   \n",
       "2 22.20667      2.243472   \n",
       "3 42.90000      4.483806   \n",
       "4 60.66976      6.717869   \n",
       "5 74.30498      8.942536   \n",
       "6 82.87644     11.154696   "
      ]
     },
     "metadata": {},
     "output_type": "display_data"
    }
   ],
   "source": [
    "head(dataset)"
   ]
  },
  {
   "cell_type": "markdown",
   "metadata": {
    "deletable": true,
    "editable": true
   },
   "source": [
    ">**snippet of the time series data**"
   ]
  },
  {
   "cell_type": "markdown",
   "metadata": {
    "deletable": true,
    "editable": true
   },
   "source": [
    "### Missing Data\n",
    "\n",
    "It is important to check for missing data prior to building the model. To impute missing data we will use the MICE package\n"
   ]
  },
  {
   "cell_type": "code",
   "execution_count": 21,
   "metadata": {
    "collapsed": false,
    "deletable": true,
    "editable": true
   },
   "outputs": [
    {
     "name": "stdout",
     "output_type": "stream",
     "text": [
      "\n",
      " Variables sorted by number of missings: \n",
      "     Variable Count\n",
      "   timestamps     0\n",
      "        value     0\n",
      "      anomaly     0\n",
      "  changepoint     0\n",
      "        trend     0\n",
      "        noise     0\n",
      " seasonality1     0\n",
      " seasonality2     0\n",
      " seasonality3     0\n"
     ]
    },
    {
     "data": {
      "image/png": "[encoded data removed]",
      "text/plain": [
       "plot without title"
      ]
     },
     "metadata": {},
     "output_type": "display_data"
    }
   ],
   "source": [
    "library(mice)\n",
    "library(VIM)\n",
    "mice_plot <- aggr(dataset, col=c('navyblue','yellow'),\n",
    "                    numbers=TRUE, sortVars=TRUE,\n",
    "                    labels=names(dataset), cex.axis=.7,\n",
    "                    gap=3, ylab=c(\"Missing data\",\"Pattern\"))"
   ]
  },
  {
   "cell_type": "markdown",
   "metadata": {
    "deletable": true,
    "editable": true
   },
   "source": [
    "As indicated above our dataset has no missing values.\n",
    "\n",
    "### **Transformations**\n",
    "\n",
    "The summary statistics above indicated that our predictors were not on the same scale. Standardizing them would make our models easier to interpret and also save time on building the models. \n",
    "\n",
    "To do this, we first begin by saving the `anomaly` column into a variable `y` and remove it from the `dataset` dataframe"
   ]
  },
  {
   "cell_type": "code",
   "execution_count": 24,
   "metadata": {
    "collapsed": false,
    "deletable": true,
    "editable": true
   },
   "outputs": [
    {
     "name": "stdout",
     "output_type": "stream",
     "text": [
      "Y"
     ]
    },
    {
     "data": {
      "text/html": [
       "<ol class=list-inline>\n",
       "\t<li>0</li>\n",
       "\t<li>0</li>\n",
       "\t<li>0</li>\n",
       "\t<li>0</li>\n",
       "\t<li>0</li>\n",
       "\t<li>0</li>\n",
       "</ol>\n"
      ],
      "text/latex": [
       "\\begin{enumerate*}\n",
       "\\item 0\n",
       "\\item 0\n",
       "\\item 0\n",
       "\\item 0\n",
       "\\item 0\n",
       "\\item 0\n",
       "\\end{enumerate*}\n"
      ],
      "text/markdown": [
       "1. 0\n",
       "2. 0\n",
       "3. 0\n",
       "4. 0\n",
       "5. 0\n",
       "6. 0\n",
       "\n",
       "\n"
      ],
      "text/plain": [
       "[1] 0 0 0 0 0 0"
      ]
     },
     "metadata": {},
     "output_type": "display_data"
    },
    {
     "name": "stdout",
     "output_type": "stream",
     "text": [
      "X"
     ]
    },
    {
     "data": {
      "text/html": [
       "<table>\n",
       "<thead><tr><th scope=col>timestamps</th><th scope=col>value</th><th scope=col>anomaly</th><th scope=col>changepoint</th><th scope=col>trend</th><th scope=col>noise</th><th scope=col>seasonality1</th><th scope=col>seasonality2</th><th scope=col>seasonality3</th></tr></thead>\n",
       "<tbody>\n",
       "\t<tr><td>1416722400</td><td>  6.470061</td><td>0         </td><td>0         </td><td>0         </td><td>  6.470061</td><td>  0.0000  </td><td> 0.00000  </td><td> 0.000000 </td></tr>\n",
       "\t<tr><td>1416726000</td><td> 80.972293</td><td>0         </td><td>0         </td><td>0         </td><td>-11.077853</td><td> 67.6000  </td><td>22.20667  </td><td> 2.243472 </td></tr>\n",
       "\t<tr><td>1416729600</td><td>159.014680</td><td>0         </td><td>0         </td><td>0         </td><td> -5.455761</td><td>117.0866  </td><td>42.90000  </td><td> 4.483806 </td></tr>\n",
       "\t<tr><td>1416733200</td><td>214.721803</td><td>0         </td><td>0         </td><td>0         </td><td> 12.134172</td><td>135.2000  </td><td>60.66976  </td><td> 6.717869 </td></tr>\n",
       "\t<tr><td>1416736800</td><td>201.695834</td><td>0         </td><td>0         </td><td>0         </td><td>  1.361684</td><td>117.0866  </td><td>74.30498  </td><td> 8.942536 </td></tr>\n",
       "\t<tr><td>1416740400</td><td>172.005843</td><td>0         </td><td>0         </td><td>0         </td><td> 10.374710</td><td> 67.6000  </td><td>82.87644  </td><td>11.154696 </td></tr>\n",
       "</tbody>\n",
       "</table>\n"
      ],
      "text/latex": [
       "\\begin{tabular}{r|lllllllll}\n",
       " timestamps & value & anomaly & changepoint & trend & noise & seasonality1 & seasonality2 & seasonality3\\\\\n",
       "\\hline\n",
       "\t 1416722400 &   6.470061 & 0          & 0          & 0          &   6.470061 &   0.0000   &  0.00000   &  0.000000 \\\\\n",
       "\t 1416726000 &  80.972293 & 0          & 0          & 0          & -11.077853 &  67.6000   & 22.20667   &  2.243472 \\\\\n",
       "\t 1416729600 & 159.014680 & 0          & 0          & 0          &  -5.455761 & 117.0866   & 42.90000   &  4.483806 \\\\\n",
       "\t 1416733200 & 214.721803 & 0          & 0          & 0          &  12.134172 & 135.2000   & 60.66976   &  6.717869 \\\\\n",
       "\t 1416736800 & 201.695834 & 0          & 0          & 0          &   1.361684 & 117.0866   & 74.30498   &  8.942536 \\\\\n",
       "\t 1416740400 & 172.005843 & 0          & 0          & 0          &  10.374710 &  67.6000   & 82.87644   & 11.154696 \\\\\n",
       "\\end{tabular}\n"
      ],
      "text/markdown": [
       "\n",
       "timestamps | value | anomaly | changepoint | trend | noise | seasonality1 | seasonality2 | seasonality3 | \n",
       "|---|---|---|---|---|---|\n",
       "| 1416722400 |   6.470061 | 0          | 0          | 0          |   6.470061 |   0.0000   |  0.00000   |  0.000000  | \n",
       "| 1416726000 |  80.972293 | 0          | 0          | 0          | -11.077853 |  67.6000   | 22.20667   |  2.243472  | \n",
       "| 1416729600 | 159.014680 | 0          | 0          | 0          |  -5.455761 | 117.0866   | 42.90000   |  4.483806  | \n",
       "| 1416733200 | 214.721803 | 0          | 0          | 0          |  12.134172 | 135.2000   | 60.66976   |  6.717869  | \n",
       "| 1416736800 | 201.695834 | 0          | 0          | 0          |   1.361684 | 117.0866   | 74.30498   |  8.942536  | \n",
       "| 1416740400 | 172.005843 | 0          | 0          | 0          |  10.374710 |  67.6000   | 82.87644   | 11.154696  | \n",
       "\n",
       "\n"
      ],
      "text/plain": [
       "  timestamps value      anomaly changepoint trend noise      seasonality1\n",
       "1 1416722400   6.470061 0       0           0       6.470061   0.0000    \n",
       "2 1416726000  80.972293 0       0           0     -11.077853  67.6000    \n",
       "3 1416729600 159.014680 0       0           0      -5.455761 117.0866    \n",
       "4 1416733200 214.721803 0       0           0      12.134172 135.2000    \n",
       "5 1416736800 201.695834 0       0           0       1.361684 117.0866    \n",
       "6 1416740400 172.005843 0       0           0      10.374710  67.6000    \n",
       "  seasonality2 seasonality3\n",
       "1  0.00000      0.000000   \n",
       "2 22.20667      2.243472   \n",
       "3 42.90000      4.483806   \n",
       "4 60.66976      6.717869   \n",
       "5 74.30498      8.942536   \n",
       "6 82.87644     11.154696   "
      ]
     },
     "metadata": {},
     "output_type": "display_data"
    }
   ],
   "source": [
    "# convert timestamp to milliseconds\n",
    "x_trans$timestamps <- as.POSIXct(x_trans$timestamps, origin=\"1970-01-01\", tz=\"UTC\")_\n",
    "#sort by timestamp\n",
    "x_trans <- x_trans[order(x_trans$timestamps),]\n",
    "y <- dataset[,3]\n",
    "x <- dataset[,-3]\n",
    "cat('Y')\n",
    "head(y)\n",
    "cat ('X')\n",
    "head(dataset)"
   ]
  },
  {
   "cell_type": "markdown",
   "metadata": {
    "deletable": true,
    "editable": true
   },
   "source": [
    ">**snippet of the `dataset` dataframe after removing the target cariable `anomaly`**"
   ]
  },
  {
   "cell_type": "markdown",
   "metadata": {
    "deletable": true,
    "editable": true
   },
   "source": [
    "#### Skewness\n",
    "\n",
    "We also check for skewness in the data using the `e1071` package which calculates the sample `skewness statistic` for each predictor."
   ]
  },
  {
   "cell_type": "code",
   "execution_count": 25,
   "metadata": {
    "collapsed": false,
    "deletable": true,
    "editable": true
   },
   "outputs": [
    {
     "data": {
      "text/html": [
       "<dl class=dl-horizontal>\n",
       "\t<dt>timestamps</dt>\n",
       "\t\t<dd>0</dd>\n",
       "\t<dt>value</dt>\n",
       "\t\t<dd>-0.169731344525992</dd>\n",
       "\t<dt>changepoint</dt>\n",
       "\t\t<dd>NaN</dd>\n",
       "\t<dt>trend</dt>\n",
       "\t\t<dd>-0.163896618243957</dd>\n",
       "\t<dt>noise</dt>\n",
       "\t\t<dd>0.0252930711938632</dd>\n",
       "\t<dt>seasonality1</dt>\n",
       "\t\t<dd>6.63313924896381e-16</dd>\n",
       "</dl>\n"
      ],
      "text/latex": [
       "\\begin{description*}\n",
       "\\item[timestamps] 0\n",
       "\\item[value] -0.169731344525992\n",
       "\\item[changepoint] NaN\n",
       "\\item[trend] -0.163896618243957\n",
       "\\item[noise] 0.0252930711938632\n",
       "\\item[seasonality1] 6.63313924896381e-16\n",
       "\\end{description*}\n"
      ],
      "text/markdown": [
       "timestamps\n",
       ":   0value\n",
       ":   -0.169731344525992changepoint\n",
       ":   NaNtrend\n",
       ":   -0.163896618243957noise\n",
       ":   0.0252930711938632seasonality1\n",
       ":   6.63313924896381e-16\n",
       "\n"
      ],
      "text/plain": [
       "   timestamps         value   changepoint         trend         noise \n",
       " 0.000000e+00 -1.697313e-01           NaN -1.638966e-01  2.529307e-02 \n",
       " seasonality1 \n",
       " 6.633139e-16 "
      ]
     },
     "metadata": {},
     "output_type": "display_data"
    }
   ],
   "source": [
    "library(e1071)\n",
    "skewValues <- apply(x, 2, skewness)\n",
    "head(skewValues)"
   ]
  },
  {
   "cell_type": "markdown",
   "metadata": {
    "deletable": true,
    "editable": true
   },
   "source": [
    "Asses shape of distribution"
   ]
  },
  {
   "cell_type": "code",
   "execution_count": 26,
   "metadata": {
    "collapsed": false,
    "deletable": true,
    "editable": true
   },
   "outputs": [
    {
     "data": {
      "text/html": [
       "<table>\n",
       "<thead><tr><th scope=col>value</th><th scope=col>changepoint</th><th scope=col>trend</th><th scope=col>noise</th><th scope=col>seasonality1</th><th scope=col>seasonality2</th><th scope=col>seasonality3</th></tr></thead>\n",
       "<tbody>\n",
       "\t<tr><td>  6.470061</td><td>0         </td><td>0         </td><td>  6.470061</td><td>  0.0000  </td><td> 0.00000  </td><td> 0.000000 </td></tr>\n",
       "\t<tr><td> 80.972293</td><td>0         </td><td>0         </td><td>-11.077853</td><td> 67.6000  </td><td>22.20667  </td><td> 2.243472 </td></tr>\n",
       "\t<tr><td>159.014680</td><td>0         </td><td>0         </td><td> -5.455761</td><td>117.0866  </td><td>42.90000  </td><td> 4.483806 </td></tr>\n",
       "\t<tr><td>214.721803</td><td>0         </td><td>0         </td><td> 12.134172</td><td>135.2000  </td><td>60.66976  </td><td> 6.717869 </td></tr>\n",
       "\t<tr><td>201.695834</td><td>0         </td><td>0         </td><td>  1.361684</td><td>117.0866  </td><td>74.30498  </td><td> 8.942536 </td></tr>\n",
       "\t<tr><td>172.005843</td><td>0         </td><td>0         </td><td> 10.374710</td><td> 67.6000  </td><td>82.87644  </td><td>11.154696 </td></tr>\n",
       "</tbody>\n",
       "</table>\n"
      ],
      "text/latex": [
       "\\begin{tabular}{r|lllllll}\n",
       " value & changepoint & trend & noise & seasonality1 & seasonality2 & seasonality3\\\\\n",
       "\\hline\n",
       "\t   6.470061 & 0          & 0          &   6.470061 &   0.0000   &  0.00000   &  0.000000 \\\\\n",
       "\t  80.972293 & 0          & 0          & -11.077853 &  67.6000   & 22.20667   &  2.243472 \\\\\n",
       "\t 159.014680 & 0          & 0          &  -5.455761 & 117.0866   & 42.90000   &  4.483806 \\\\\n",
       "\t 214.721803 & 0          & 0          &  12.134172 & 135.2000   & 60.66976   &  6.717869 \\\\\n",
       "\t 201.695834 & 0          & 0          &   1.361684 & 117.0866   & 74.30498   &  8.942536 \\\\\n",
       "\t 172.005843 & 0          & 0          &  10.374710 &  67.6000   & 82.87644   & 11.154696 \\\\\n",
       "\\end{tabular}\n"
      ],
      "text/markdown": [
       "\n",
       "value | changepoint | trend | noise | seasonality1 | seasonality2 | seasonality3 | \n",
       "|---|---|---|---|---|---|\n",
       "|   6.470061 | 0          | 0          |   6.470061 |   0.0000   |  0.00000   |  0.000000  | \n",
       "|  80.972293 | 0          | 0          | -11.077853 |  67.6000   | 22.20667   |  2.243472  | \n",
       "| 159.014680 | 0          | 0          |  -5.455761 | 117.0866   | 42.90000   |  4.483806  | \n",
       "| 214.721803 | 0          | 0          |  12.134172 | 135.2000   | 60.66976   |  6.717869  | \n",
       "| 201.695834 | 0          | 0          |   1.361684 | 117.0866   | 74.30498   |  8.942536  | \n",
       "| 172.005843 | 0          | 0          |  10.374710 |  67.6000   | 82.87644   | 11.154696  | \n",
       "\n",
       "\n"
      ],
      "text/plain": [
       "  value      changepoint trend noise      seasonality1 seasonality2\n",
       "1   6.470061 0           0       6.470061   0.0000      0.00000    \n",
       "2  80.972293 0           0     -11.077853  67.6000     22.20667    \n",
       "3 159.014680 0           0      -5.455761 117.0866     42.90000    \n",
       "4 214.721803 0           0      12.134172 135.2000     60.66976    \n",
       "5 201.695834 0           0       1.361684 117.0866     74.30498    \n",
       "6 172.005843 0           0      10.374710  67.6000     82.87644    \n",
       "  seasonality3\n",
       "1  0.000000   \n",
       "2  2.243472   \n",
       "3  4.483806   \n",
       "4  6.717869   \n",
       "5  8.942536   \n",
       "6 11.154696   "
      ]
     },
     "metadata": {},
     "output_type": "display_data"
    },
    {
     "data": {
      "image/png": "[encoded data removed]",
      "text/plain": [
       "Plot with title “Histogram of skewValues”"
      ]
     },
     "metadata": {},
     "output_type": "display_data"
    }
   ],
   "source": [
    "hist(skewValues)\n",
    "head(x[,-1])"
   ]
  },
  {
   "cell_type": "markdown",
   "metadata": {
    "deletable": true,
    "editable": true
   },
   "source": [
    "We consider the data to be extremely skewed if the ratio of the highest value to the lowest is greater than 20"
   ]
  },
  {
   "cell_type": "code",
   "execution_count": 27,
   "metadata": {
    "collapsed": false,
    "deletable": true,
    "editable": true
   },
   "outputs": [
    {
     "name": "stdout",
     "output_type": "stream",
     "text": [
      "Ratio of highest to lowest skew value 1.526511e+14"
     ]
    }
   ],
   "source": [
    "ratio <- skewValues[\"noise\"]/skewValues[\"seasonality2\"]\n",
    "cat(\"Ratio of highest to lowest skew value\",ratio)"
   ]
  },
  {
   "cell_type": "markdown",
   "metadata": {
    "deletable": true,
    "editable": true
   },
   "source": [
    "A value of 1.526511e+14 indicates that our data has extreme skewness. This is also indicated in the histogram above. As a result we need to standardize our data.\n",
    "\n",
    "#### BoxCox transformation\n",
    "\n",
    "To standardize our data we use the `caret` function `preProcess` which applies transformations to a set of predictors.\n",
    "\n",
    "We will exclude the `timestamp` from this transformation"
   ]
  },
  {
   "cell_type": "code",
   "execution_count": 28,
   "metadata": {
    "collapsed": false,
    "deletable": true,
    "editable": true
   },
   "outputs": [
    {
     "name": "stderr",
     "output_type": "stream",
     "text": [
      "Warning message in preProcess.default(x[, -1], method = c(\"BoxCox\", \"center\", \"scale\")):\n",
      "“These variables have zero variances: changepoint”"
     ]
    },
    {
     "data": {
      "text/plain": [
       "Created from 169680 samples and 7 variables\n",
       "\n",
       "Pre-processing:\n",
       "  - centered (7)\n",
       "  - ignored (0)\n",
       "  - scaled (7)\n"
      ]
     },
     "metadata": {},
     "output_type": "display_data"
    }
   ],
   "source": [
    "library(caret)\n",
    "trans <- preProcess(x[,-1],\n",
    "                    method = c(\"BoxCox\", \"center\", \"scale\"))\n",
    "trans"
   ]
  },
  {
   "cell_type": "markdown",
   "metadata": {
    "deletable": true,
    "editable": true
   },
   "source": [
    "#### **apply transformations**"
   ]
  },
  {
   "cell_type": "code",
   "execution_count": 29,
   "metadata": {
    "collapsed": false,
    "deletable": true,
    "editable": true
   },
   "outputs": [
    {
     "name": "stderr",
     "output_type": "stream",
     "text": [
      "Warning message in is.na(lam):\n",
      "“is.na() applied to non-(list or vector) of type 'NULL'”"
     ]
    },
    {
     "data": {
      "text/html": [
       "<table>\n",
       "<thead><tr><th scope=col>timestamps</th><th scope=col>value</th><th scope=col>changepoint</th><th scope=col>trend</th><th scope=col>noise</th><th scope=col>seasonality1</th><th scope=col>seasonality2</th><th scope=col>seasonality3</th></tr></thead>\n",
       "<tbody>\n",
       "\t<tr><td>1416722400   </td><td>0.03407135   </td><td>0            </td><td>0.03150748   </td><td> 0.07685769  </td><td>2.501110e-16 </td><td>-4.501564e-18</td><td>7.797788e-17 </td></tr>\n",
       "\t<tr><td>1416726000   </td><td>0.07290769   </td><td>0            </td><td>0.03150748   </td><td>-0.12535642  </td><td>1.881166e-01 </td><td> 7.961877e-02</td><td>1.166703e-02 </td></tr>\n",
       "\t<tr><td>1416729600   </td><td>0.11358943   </td><td>0            </td><td>0.03150748   </td><td>-0.06057001  </td><td>3.258275e-01 </td><td> 1.538116e-01</td><td>2.331775e-02 </td></tr>\n",
       "\t<tr><td>1416733200   </td><td>0.14262830   </td><td>0            </td><td>0.03150748   </td><td> 0.14212831  </td><td>3.762332e-01 </td><td> 2.175225e-01</td><td>3.493585e-02 </td></tr>\n",
       "\t<tr><td>1416736800   </td><td>0.13583816   </td><td>0            </td><td>0.03150748   </td><td> 0.01799110  </td><td>3.258275e-01 </td><td> 2.664096e-01</td><td>4.650509e-02 </td></tr>\n",
       "\t<tr><td>1416740400   </td><td>0.12036143   </td><td>0            </td><td>0.03150748   </td><td> 0.12185308  </td><td>1.881166e-01 </td><td> 2.971413e-01</td><td>5.800929e-02 </td></tr>\n",
       "</tbody>\n",
       "</table>\n"
      ],
      "text/latex": [
       "\\begin{tabular}{r|llllllll}\n",
       " timestamps & value & changepoint & trend & noise & seasonality1 & seasonality2 & seasonality3\\\\\n",
       "\\hline\n",
       "\t 1416722400    & 0.03407135    & 0             & 0.03150748    &  0.07685769   & 2.501110e-16  & -4.501564e-18 & 7.797788e-17 \\\\\n",
       "\t 1416726000    & 0.07290769    & 0             & 0.03150748    & -0.12535642   & 1.881166e-01  &  7.961877e-02 & 1.166703e-02 \\\\\n",
       "\t 1416729600    & 0.11358943    & 0             & 0.03150748    & -0.06057001   & 3.258275e-01  &  1.538116e-01 & 2.331775e-02 \\\\\n",
       "\t 1416733200    & 0.14262830    & 0             & 0.03150748    &  0.14212831   & 3.762332e-01  &  2.175225e-01 & 3.493585e-02 \\\\\n",
       "\t 1416736800    & 0.13583816    & 0             & 0.03150748    &  0.01799110   & 3.258275e-01  &  2.664096e-01 & 4.650509e-02 \\\\\n",
       "\t 1416740400    & 0.12036143    & 0             & 0.03150748    &  0.12185308   & 1.881166e-01  &  2.971413e-01 & 5.800929e-02 \\\\\n",
       "\\end{tabular}\n"
      ],
      "text/markdown": [
       "\n",
       "timestamps | value | changepoint | trend | noise | seasonality1 | seasonality2 | seasonality3 | \n",
       "|---|---|---|---|---|---|\n",
       "| 1416722400    | 0.03407135    | 0             | 0.03150748    |  0.07685769   | 2.501110e-16  | -4.501564e-18 | 7.797788e-17  | \n",
       "| 1416726000    | 0.07290769    | 0             | 0.03150748    | -0.12535642   | 1.881166e-01  |  7.961877e-02 | 1.166703e-02  | \n",
       "| 1416729600    | 0.11358943    | 0             | 0.03150748    | -0.06057001   | 3.258275e-01  |  1.538116e-01 | 2.331775e-02  | \n",
       "| 1416733200    | 0.14262830    | 0             | 0.03150748    |  0.14212831   | 3.762332e-01  |  2.175225e-01 | 3.493585e-02  | \n",
       "| 1416736800    | 0.13583816    | 0             | 0.03150748    |  0.01799110   | 3.258275e-01  |  2.664096e-01 | 4.650509e-02  | \n",
       "| 1416740400    | 0.12036143    | 0             | 0.03150748    |  0.12185308   | 1.881166e-01  |  2.971413e-01 | 5.800929e-02  | \n",
       "\n",
       "\n"
      ],
      "text/plain": [
       "  timestamps value      changepoint trend      noise       seasonality1\n",
       "1 1416722400 0.03407135 0           0.03150748  0.07685769 2.501110e-16\n",
       "2 1416726000 0.07290769 0           0.03150748 -0.12535642 1.881166e-01\n",
       "3 1416729600 0.11358943 0           0.03150748 -0.06057001 3.258275e-01\n",
       "4 1416733200 0.14262830 0           0.03150748  0.14212831 3.762332e-01\n",
       "5 1416736800 0.13583816 0           0.03150748  0.01799110 3.258275e-01\n",
       "6 1416740400 0.12036143 0           0.03150748  0.12185308 1.881166e-01\n",
       "  seasonality2  seasonality3\n",
       "1 -4.501564e-18 7.797788e-17\n",
       "2  7.961877e-02 1.166703e-02\n",
       "3  1.538116e-01 2.331775e-02\n",
       "4  2.175225e-01 3.493585e-02\n",
       "5  2.664096e-01 4.650509e-02\n",
       "6  2.971413e-01 5.800929e-02"
      ]
     },
     "metadata": {},
     "output_type": "display_data"
    }
   ],
   "source": [
    "x_trans <- predict(trans, x)\n",
    "head(x_trans)"
   ]
  },
  {
   "cell_type": "markdown",
   "metadata": {
    "deletable": true,
    "editable": true
   },
   "source": [
    "### Filtering\n",
    "\n",
    "To filter near-zero variance predictors, the `caret` package function `nearZeroVar` will return the column numbers of any predictors that don't explain the variance in the data.\n",
    "\n",
    "When a vector should be removed, a vector of integers is returned that indicates which columns should be removed"
   ]
  },
  {
   "cell_type": "code",
   "execution_count": 30,
   "metadata": {
    "collapsed": false,
    "deletable": true,
    "editable": true
   },
   "outputs": [
    {
     "data": {
      "text/html": [
       "<ol class=list-inline>\n",
       "\t<li>3</li>\n",
       "\t<li>4</li>\n",
       "</ol>\n"
      ],
      "text/latex": [
       "\\begin{enumerate*}\n",
       "\\item 3\n",
       "\\item 4\n",
       "\\end{enumerate*}\n"
      ],
      "text/markdown": [
       "1. 3\n",
       "2. 4\n",
       "\n",
       "\n"
      ],
      "text/plain": [
       "[1] 3 4"
      ]
     },
     "metadata": {},
     "output_type": "display_data"
    }
   ],
   "source": [
    "nearZeroVar(x_trans)"
   ]
  },
  {
   "cell_type": "markdown",
   "metadata": {
    "deletable": true,
    "editable": true
   },
   "source": [
    "We now remove the `trend` predictor because it has a near-zero variance. This predictor unlikely to improve our predictive accuracy"
   ]
  },
  {
   "cell_type": "code",
   "execution_count": 31,
   "metadata": {
    "collapsed": false,
    "deletable": true,
    "editable": true
   },
   "outputs": [
    {
     "data": {
      "text/html": [
       "<table>\n",
       "<thead><tr><th scope=col>timestamps</th><th scope=col>value</th><th scope=col>trend</th><th scope=col>noise</th><th scope=col>seasonality1</th><th scope=col>seasonality2</th><th scope=col>seasonality3</th></tr></thead>\n",
       "<tbody>\n",
       "\t<tr><td>1416722400   </td><td>0.03407135   </td><td>0.03150748   </td><td> 0.07685769  </td><td>2.501110e-16 </td><td>-4.501564e-18</td><td>7.797788e-17 </td></tr>\n",
       "\t<tr><td>1416726000   </td><td>0.07290769   </td><td>0.03150748   </td><td>-0.12535642  </td><td>1.881166e-01 </td><td> 7.961877e-02</td><td>1.166703e-02 </td></tr>\n",
       "\t<tr><td>1416729600   </td><td>0.11358943   </td><td>0.03150748   </td><td>-0.06057001  </td><td>3.258275e-01 </td><td> 1.538116e-01</td><td>2.331775e-02 </td></tr>\n",
       "\t<tr><td>1416733200   </td><td>0.14262830   </td><td>0.03150748   </td><td> 0.14212831  </td><td>3.762332e-01 </td><td> 2.175225e-01</td><td>3.493585e-02 </td></tr>\n",
       "\t<tr><td>1416736800   </td><td>0.13583816   </td><td>0.03150748   </td><td> 0.01799110  </td><td>3.258275e-01 </td><td> 2.664096e-01</td><td>4.650509e-02 </td></tr>\n",
       "\t<tr><td>1416740400   </td><td>0.12036143   </td><td>0.03150748   </td><td> 0.12185308  </td><td>1.881166e-01 </td><td> 2.971413e-01</td><td>5.800929e-02 </td></tr>\n",
       "</tbody>\n",
       "</table>\n"
      ],
      "text/latex": [
       "\\begin{tabular}{r|lllllll}\n",
       " timestamps & value & trend & noise & seasonality1 & seasonality2 & seasonality3\\\\\n",
       "\\hline\n",
       "\t 1416722400    & 0.03407135    & 0.03150748    &  0.07685769   & 2.501110e-16  & -4.501564e-18 & 7.797788e-17 \\\\\n",
       "\t 1416726000    & 0.07290769    & 0.03150748    & -0.12535642   & 1.881166e-01  &  7.961877e-02 & 1.166703e-02 \\\\\n",
       "\t 1416729600    & 0.11358943    & 0.03150748    & -0.06057001   & 3.258275e-01  &  1.538116e-01 & 2.331775e-02 \\\\\n",
       "\t 1416733200    & 0.14262830    & 0.03150748    &  0.14212831   & 3.762332e-01  &  2.175225e-01 & 3.493585e-02 \\\\\n",
       "\t 1416736800    & 0.13583816    & 0.03150748    &  0.01799110   & 3.258275e-01  &  2.664096e-01 & 4.650509e-02 \\\\\n",
       "\t 1416740400    & 0.12036143    & 0.03150748    &  0.12185308   & 1.881166e-01  &  2.971413e-01 & 5.800929e-02 \\\\\n",
       "\\end{tabular}\n"
      ],
      "text/markdown": [
       "\n",
       "timestamps | value | trend | noise | seasonality1 | seasonality2 | seasonality3 | \n",
       "|---|---|---|---|---|---|\n",
       "| 1416722400    | 0.03407135    | 0.03150748    |  0.07685769   | 2.501110e-16  | -4.501564e-18 | 7.797788e-17  | \n",
       "| 1416726000    | 0.07290769    | 0.03150748    | -0.12535642   | 1.881166e-01  |  7.961877e-02 | 1.166703e-02  | \n",
       "| 1416729600    | 0.11358943    | 0.03150748    | -0.06057001   | 3.258275e-01  |  1.538116e-01 | 2.331775e-02  | \n",
       "| 1416733200    | 0.14262830    | 0.03150748    |  0.14212831   | 3.762332e-01  |  2.175225e-01 | 3.493585e-02  | \n",
       "| 1416736800    | 0.13583816    | 0.03150748    |  0.01799110   | 3.258275e-01  |  2.664096e-01 | 4.650509e-02  | \n",
       "| 1416740400    | 0.12036143    | 0.03150748    |  0.12185308   | 1.881166e-01  |  2.971413e-01 | 5.800929e-02  | \n",
       "\n",
       "\n"
      ],
      "text/plain": [
       "  timestamps value      trend      noise       seasonality1 seasonality2 \n",
       "1 1416722400 0.03407135 0.03150748  0.07685769 2.501110e-16 -4.501564e-18\n",
       "2 1416726000 0.07290769 0.03150748 -0.12535642 1.881166e-01  7.961877e-02\n",
       "3 1416729600 0.11358943 0.03150748 -0.06057001 3.258275e-01  1.538116e-01\n",
       "4 1416733200 0.14262830 0.03150748  0.14212831 3.762332e-01  2.175225e-01\n",
       "5 1416736800 0.13583816 0.03150748  0.01799110 3.258275e-01  2.664096e-01\n",
       "6 1416740400 0.12036143 0.03150748  0.12185308 1.881166e-01  2.971413e-01\n",
       "  seasonality3\n",
       "1 7.797788e-17\n",
       "2 1.166703e-02\n",
       "3 2.331775e-02\n",
       "4 3.493585e-02\n",
       "5 4.650509e-02\n",
       "6 5.800929e-02"
      ]
     },
     "metadata": {},
     "output_type": "display_data"
    }
   ],
   "source": [
    "x_trans <- x_trans[,-3]\n",
    "head(x_trans)"
   ]
  },
  {
   "cell_type": "markdown",
   "metadata": {
    "deletable": true,
    "editable": true
   },
   "source": [
    "### Correlation\n",
    "\n",
    "Correlated predictors do not add any extra knowledge to our model. In order to simplify our model we need to remove the correlated predictors. The `cor` function can calculate the correlations between predictor variables. To visualize the correlation data structure we use `corrplot` package"
   ]
  },
  {
   "cell_type": "code",
   "execution_count": 32,
   "metadata": {
    "collapsed": false,
    "deletable": true,
    "editable": true
   },
   "outputs": [
    {
     "data": {
      "text/html": [
       "<table>\n",
       "<thead><tr><th></th><th scope=col>timestamps</th><th scope=col>value</th><th scope=col>trend</th><th scope=col>noise</th><th scope=col>seasonality1</th><th scope=col>seasonality2</th></tr></thead>\n",
       "<tbody>\n",
       "\t<tr><th scope=row>timestamps</th><td> 1.000000000 </td><td>-0.02594959  </td><td>-1.818008e-02</td><td>-1.878057e-03</td><td>-4.697417e-03</td><td>-9.264234e-03</td></tr>\n",
       "\t<tr><th scope=row>value</th><td>-0.025949589 </td><td> 1.00000000  </td><td> 9.639707e-01</td><td> 4.615691e-02</td><td> 1.877230e-01</td><td> 1.457534e-01</td></tr>\n",
       "\t<tr><th scope=row>trend</th><td>-0.018180084 </td><td> 0.96397073  </td><td> 1.000000e+00</td><td>-6.933067e-05</td><td> 9.692119e-05</td><td> 3.723280e-04</td></tr>\n",
       "\t<tr><th scope=row>noise</th><td>-0.001878057 </td><td> 0.04615691  </td><td>-6.933067e-05</td><td> 1.000000e+00</td><td> 4.110017e-03</td><td> 9.919681e-04</td></tr>\n",
       "\t<tr><th scope=row>seasonality1</th><td>-0.004697417 </td><td> 0.18772303  </td><td> 9.692119e-05</td><td> 4.110017e-03</td><td> 1.000000e+00</td><td> 2.041722e-16</td></tr>\n",
       "\t<tr><th scope=row>seasonality2</th><td>-0.009264234 </td><td> 0.14575345  </td><td> 3.723280e-04</td><td> 9.919681e-04</td><td> 2.041722e-16</td><td> 1.000000e+00</td></tr>\n",
       "</tbody>\n",
       "</table>\n"
      ],
      "text/latex": [
       "\\begin{tabular}{r|llllll}\n",
       "  & timestamps & value & trend & noise & seasonality1 & seasonality2\\\\\n",
       "\\hline\n",
       "\ttimestamps &  1.000000000  & -0.02594959   & -1.818008e-02 & -1.878057e-03 & -4.697417e-03 & -9.264234e-03\\\\\n",
       "\tvalue & -0.025949589  &  1.00000000   &  9.639707e-01 &  4.615691e-02 &  1.877230e-01 &  1.457534e-01\\\\\n",
       "\ttrend & -0.018180084  &  0.96397073   &  1.000000e+00 & -6.933067e-05 &  9.692119e-05 &  3.723280e-04\\\\\n",
       "\tnoise & -0.001878057  &  0.04615691   & -6.933067e-05 &  1.000000e+00 &  4.110017e-03 &  9.919681e-04\\\\\n",
       "\tseasonality1 & -0.004697417  &  0.18772303   &  9.692119e-05 &  4.110017e-03 &  1.000000e+00 &  2.041722e-16\\\\\n",
       "\tseasonality2 & -0.009264234  &  0.14575345   &  3.723280e-04 &  9.919681e-04 &  2.041722e-16 &  1.000000e+00\\\\\n",
       "\\end{tabular}\n"
      ],
      "text/markdown": [
       "\n",
       "| <!--/--> | timestamps | value | trend | noise | seasonality1 | seasonality2 | \n",
       "|---|---|---|---|---|---|\n",
       "| timestamps |  1.000000000  | -0.02594959   | -1.818008e-02 | -1.878057e-03 | -4.697417e-03 | -9.264234e-03 | \n",
       "| value | -0.025949589  |  1.00000000   |  9.639707e-01 |  4.615691e-02 |  1.877230e-01 |  1.457534e-01 | \n",
       "| trend | -0.018180084  |  0.96397073   |  1.000000e+00 | -6.933067e-05 |  9.692119e-05 |  3.723280e-04 | \n",
       "| noise | -0.001878057  |  0.04615691   | -6.933067e-05 |  1.000000e+00 |  4.110017e-03 |  9.919681e-04 | \n",
       "| seasonality1 | -0.004697417  |  0.18772303   |  9.692119e-05 |  4.110017e-03 |  1.000000e+00 |  2.041722e-16 | \n",
       "| seasonality2 | -0.009264234  |  0.14575345   |  3.723280e-04 |  9.919681e-04 |  2.041722e-16 |  1.000000e+00 | \n",
       "\n",
       "\n"
      ],
      "text/plain": [
       "             timestamps   value       trend         noise         seasonality1 \n",
       "timestamps    1.000000000 -0.02594959 -1.818008e-02 -1.878057e-03 -4.697417e-03\n",
       "value        -0.025949589  1.00000000  9.639707e-01  4.615691e-02  1.877230e-01\n",
       "trend        -0.018180084  0.96397073  1.000000e+00 -6.933067e-05  9.692119e-05\n",
       "noise        -0.001878057  0.04615691 -6.933067e-05  1.000000e+00  4.110017e-03\n",
       "seasonality1 -0.004697417  0.18772303  9.692119e-05  4.110017e-03  1.000000e+00\n",
       "seasonality2 -0.009264234  0.14575345  3.723280e-04  9.919681e-04  2.041722e-16\n",
       "             seasonality2 \n",
       "timestamps   -9.264234e-03\n",
       "value         1.457534e-01\n",
       "trend         3.723280e-04\n",
       "noise         9.919681e-04\n",
       "seasonality1  2.041722e-16\n",
       "seasonality2  1.000000e+00"
      ]
     },
     "metadata": {},
     "output_type": "display_data"
    },
    {
     "data": {
      "text/html": [
       "1"
      ],
      "text/latex": [
       "1"
      ],
      "text/markdown": [
       "1"
      ],
      "text/plain": [
       "[1] 1"
      ]
     },
     "metadata": {},
     "output_type": "display_data"
    },
    {
     "data": {
      "image/png": "[encoded data removed]",
      "text/plain": [
       "Plot with title “”"
      ]
     },
     "metadata": {},
     "output_type": "display_data"
    }
   ],
   "source": [
    "correlations <- cor(x_trans)\n",
    "correlations[1:6, 1:6]\n",
    "library(corrplot)\n",
    "corrplot(correlations, order=\"hclust\")\n",
    "highCorr <- findCorrelation(correlations, cutoff = .75)\n",
    "length(highCorr)"
   ]
  },
  {
   "cell_type": "code",
   "execution_count": 34,
   "metadata": {
    "collapsed": false
   },
   "outputs": [
    {
     "data": {
      "text/html": [
       "<table>\n",
       "<thead><tr><th scope=col>timestamps</th><th scope=col>value</th><th scope=col>trend</th><th scope=col>noise</th><th scope=col>seasonality1</th><th scope=col>seasonality2</th><th scope=col>seasonality3</th></tr></thead>\n",
       "<tbody>\n",
       "\t<tr><td>1416722400   </td><td> 0.0340713470</td><td>0.03150748   </td><td> 0.076857686 </td><td> 2.501110e-16</td><td>-4.501564e-18</td><td>7.797788e-17 </td></tr>\n",
       "\t<tr><td>1416726000   </td><td> 0.0729076861</td><td>0.03150748   </td><td>-0.125356420 </td><td> 1.881166e-01</td><td> 7.961877e-02</td><td>1.166703e-02 </td></tr>\n",
       "\t<tr><td>1416729600   </td><td> 0.1135894285</td><td>0.03150748   </td><td>-0.060570005 </td><td> 3.258275e-01</td><td> 1.538116e-01</td><td>2.331775e-02 </td></tr>\n",
       "\t<tr><td>1416733200   </td><td> 0.1426282998</td><td>0.03150748   </td><td> 0.142128307 </td><td> 3.762332e-01</td><td> 2.175225e-01</td><td>3.493585e-02 </td></tr>\n",
       "\t<tr><td>1416736800   </td><td> 0.1358381551</td><td>0.03150748   </td><td> 0.017991096 </td><td> 3.258275e-01</td><td> 2.664096e-01</td><td>4.650509e-02 </td></tr>\n",
       "\t<tr><td>1416740400   </td><td> 0.1203614298</td><td>0.03150748   </td><td> 0.121853075 </td><td> 1.881166e-01</td><td> 2.971413e-01</td><td>5.800929e-02 </td></tr>\n",
       "\t<tr><td>1416744000   </td><td> 0.0837008490</td><td>0.03150748   </td><td> 0.031411030 </td><td> 2.961863e-16</td><td> 3.076233e-01</td><td>6.943236e-02 </td></tr>\n",
       "\t<tr><td>1416747600   </td><td> 0.0531322383</td><td>0.03150748   </td><td> 0.143234982 </td><td>-1.881166e-01</td><td> 2.971413e-01</td><td>8.075832e-02 </td></tr>\n",
       "\t<tr><td>1416751200   </td><td> 0.0021072890</td><td>0.03150748   </td><td>-0.340552065 </td><td>-3.258275e-01</td><td> 2.664096e-01</td><td>9.197133e-02 </td></tr>\n",
       "\t<tr><td>1416754800   </td><td> 0.0009378338</td><td>0.03150748   </td><td>-0.025110003 </td><td>-3.762332e-01</td><td> 2.175225e-01</td><td>1.030557e-01 </td></tr>\n",
       "\t<tr><td>1416758400   </td><td> 0.0169939279</td><td>0.03150748   </td><td> 0.301629749 </td><td>-3.258275e-01</td><td> 1.538116e-01</td><td>1.139960e-01 </td></tr>\n",
       "\t<tr><td>1416762000   </td><td> 0.0135009256</td><td>0.03150748   </td><td>-0.131277630 </td><td>-1.881166e-01</td><td> 7.961877e-02</td><td>1.247768e-01 </td></tr>\n",
       "\t<tr><td>1416765600   </td><td> 0.0456538649</td><td>0.03150748   </td><td> 0.032912203 </td><td> 1.579604e-16</td><td> 3.317142e-17</td><td>1.353831e-01 </td></tr>\n",
       "\t<tr><td>1416769200   </td><td> 0.0653846406</td><td>0.03150748   </td><td>-0.077087037 </td><td> 1.881166e-01</td><td>-7.961877e-02</td><td>1.458000e-01 </td></tr>\n",
       "\t<tr><td>1416772800   </td><td> 0.0909021291</td><td>0.03150748   </td><td> 0.132579625 </td><td> 3.258275e-01</td><td>-1.538116e-01</td><td>1.560131e-01 </td></tr>\n",
       "\t<tr><td>1416776400   </td><td> 0.0890612714</td><td>0.03150748   </td><td> 0.065778083 </td><td> 3.762332e-01</td><td>-2.175225e-01</td><td>1.660079e-01 </td></tr>\n",
       "\t<tr><td>1416780000   </td><td> 0.0788872777</td><td>0.03150748   </td><td> 0.185091463 </td><td> 3.258275e-01</td><td>-2.664096e-01</td><td>1.757706e-01 </td></tr>\n",
       "\t<tr><td>1416783600   </td><td> 0.0374603837</td><td>0.03150748   </td><td>-0.082759138 </td><td> 1.881166e-01</td><td>-2.971413e-01</td><td>1.852874e-01 </td></tr>\n",
       "\t<tr><td>1416787200   </td><td> 0.0049654700</td><td>0.03150748   </td><td>-0.008935683 </td><td> 3.883369e-16</td><td>-3.076233e-01</td><td>1.945451e-01 </td></tr>\n",
       "\t<tr><td>1416790800   </td><td>-0.0204755492</td><td>0.03150748   </td><td> 0.154046894 </td><td>-1.881166e-01</td><td>-2.971413e-01</td><td>2.035308e-01 </td></tr>\n",
       "\t<tr><td>1416794400   </td><td>-0.0526152008</td><td>0.03150748   </td><td>-0.104235870 </td><td>-3.258275e-01</td><td>-2.664096e-01</td><td>2.122317e-01 </td></tr>\n",
       "\t<tr><td>1416798000   </td><td>-0.0420796111</td><td>0.03150748   </td><td> 0.161649098 </td><td>-3.762332e-01</td><td>-2.175225e-01</td><td>2.206358e-01 </td></tr>\n",
       "\t<tr><td>1416801600   </td><td>-0.0249640464</td><td>0.03150748   </td><td> 0.108572236 </td><td>-3.258275e-01</td><td>-1.538116e-01</td><td>2.287314e-01 </td></tr>\n",
       "\t<tr><td>1416805200   </td><td> 0.0113411436</td><td>0.03150748   </td><td> 0.085195755 </td><td>-1.881166e-01</td><td>-7.961877e-02</td><td>2.365070e-01 </td></tr>\n",
       "\t<tr><td>1416808800   </td><td> 0.0505503096</td><td>0.03150748   </td><td>-0.099420705 </td><td> 6.580988e-17</td><td>-7.984754e-17</td><td>2.439519e-01 </td></tr>\n",
       "\t<tr><td>1416812400   </td><td> 0.1022991457</td><td>0.03150748   </td><td>-0.006074855 </td><td> 1.881166e-01</td><td> 7.961877e-02</td><td>2.510556e-01 </td></tr>\n",
       "\t<tr><td>1416816000   </td><td> 0.1420404813</td><td>0.03150748   </td><td> 0.048776327 </td><td> 3.258275e-01</td><td> 1.538116e-01</td><td>2.578081e-01 </td></tr>\n",
       "\t<tr><td>1416819600   </td><td> 0.1533684271</td><td>0.03150748   </td><td>-0.128468756 </td><td> 3.762332e-01</td><td> 2.175225e-01</td><td>2.642001e-01 </td></tr>\n",
       "\t<tr><td>1416823200   </td><td> 0.1575820752</td><td>0.03150748   </td><td> 0.002938628 </td><td> 3.258275e-01</td><td> 2.664096e-01</td><td>2.702226e-01 </td></tr>\n",
       "\t<tr><td>1416826800   </td><td> 0.1394830709</td><td>0.03150748   </td><td> 0.061815878 </td><td> 1.881166e-01</td><td> 2.971413e-01</td><td>2.758672e-01 </td></tr>\n",
       "\t<tr><td>⋮</td><td>⋮</td><td>⋮</td><td>⋮</td><td>⋮</td><td>⋮</td><td>⋮</td></tr>\n",
       "\t<tr><td>1422662400   </td><td>-1.2975497   </td><td>-0.8614822   </td><td> 0.7765106745</td><td> 1.712732e-14</td><td>-2.294267e+00</td><td>-1.68675525  </td></tr>\n",
       "\t<tr><td>1422666000   </td><td>-1.5164938   </td><td>-0.8620230   </td><td>-0.4062178701</td><td>-9.579755e-01</td><td>-2.216092e+00</td><td>-1.65520290  </td></tr>\n",
       "\t<tr><td>1422669600   </td><td>-1.6257536   </td><td>-0.8625639   </td><td>-0.7177028719</td><td>-1.659262e+00</td><td>-1.986894e+00</td><td>-1.62133560  </td></tr>\n",
       "\t<tr><td>1422673200   </td><td>-1.6429918   </td><td>-0.8631048   </td><td>-1.2762257181</td><td>-1.915951e+00</td><td>-1.622292e+00</td><td>-1.58520071  </td></tr>\n",
       "\t<tr><td>1422676800   </td><td>-1.4542193   </td><td>-0.8636457   </td><td> 0.2332478808</td><td>-1.659262e+00</td><td>-1.147134e+00</td><td>-1.54684878  </td></tr>\n",
       "\t<tr><td>1422680400   </td><td>-1.2576265   </td><td>-0.8641865   </td><td>-0.1815358484</td><td>-9.579755e-01</td><td>-5.938001e-01</td><td>-1.50633344  </td></tr>\n",
       "\t<tr><td>1422684000   </td><td>-0.9643932   </td><td>-0.8647274   </td><td> 0.3423717225</td><td>-2.551006e-13</td><td>-1.528902e-13</td><td>-1.46371135  </td></tr>\n",
       "\t<tr><td>1422687600   </td><td>-0.7385231   </td><td>-0.8652683   </td><td>-0.6274127824</td><td> 9.579755e-01</td><td> 5.938001e-01</td><td>-1.41904213  </td></tr>\n",
       "\t<tr><td>1422691200   </td><td>-0.4787106   </td><td>-0.8658092   </td><td> 0.3417589747</td><td> 1.659262e+00</td><td> 1.147134e+00</td><td>-1.37238826  </td></tr>\n",
       "\t<tr><td>1422694800   </td><td>-0.4132135   </td><td>-0.8663501   </td><td>-0.8965857551</td><td> 1.915951e+00</td><td> 1.622292e+00</td><td>-1.32381497  </td></tr>\n",
       "\t<tr><td>1422698400   </td><td>-0.3700852   </td><td>-0.8668909   </td><td>-0.1522913283</td><td> 1.659262e+00</td><td> 1.986894e+00</td><td>-1.27339021  </td></tr>\n",
       "\t<tr><td>1422702000   </td><td>-0.4388342   </td><td>-0.8674318   </td><td> 0.3911348357</td><td> 9.579755e-01</td><td> 2.216092e+00</td><td>-1.22118450  </td></tr>\n",
       "\t<tr><td>1422705600   </td><td>-0.6170564   </td><td>-0.8679727   </td><td> 0.0590686342</td><td> 5.843755e-14</td><td> 2.294267e+00</td><td>-1.16727085  </td></tr>\n",
       "\t<tr><td>1422709200   </td><td>-0.8136550   </td><td>-0.8685136   </td><td>-0.1803278022</td><td>-9.579755e-01</td><td> 2.216092e+00</td><td>-1.11172467  </td></tr>\n",
       "\t<tr><td>1422712800   </td><td>-0.9724952   </td><td>-0.8690545   </td><td>-0.1660234002</td><td>-1.659262e+00</td><td> 1.986894e+00</td><td>-1.05462364  </td></tr>\n",
       "\t<tr><td>1422716400   </td><td>-1.0696910   </td><td>-0.8695953   </td><td>-0.1981396600</td><td>-1.915951e+00</td><td> 1.622292e+00</td><td>-0.99604762  </td></tr>\n",
       "\t<tr><td>1422720000   </td><td>-1.0762074   </td><td>-0.8701362   </td><td> 0.0006841905</td><td>-1.659262e+00</td><td> 1.147134e+00</td><td>-0.93607854  </td></tr>\n",
       "\t<tr><td>1422723600   </td><td>-1.0856668   </td><td>-0.8706771   </td><td>-1.4582728349</td><td>-9.579755e-01</td><td> 5.938001e-01</td><td>-0.87480027  </td></tr>\n",
       "\t<tr><td>1422727200   </td><td>-0.8938012   </td><td>-0.8712180   </td><td> 0.5977316608</td><td>-7.859244e-14</td><td> 4.720075e-14</td><td>-0.81229852  </td></tr>\n",
       "\t<tr><td>1422730800   </td><td>-0.7936613   </td><td>-0.8717588   </td><td> 0.6234998532</td><td> 9.579755e-01</td><td>-5.938001e-01</td><td>-0.74866069  </td></tr>\n",
       "\t<tr><td>1422734400   </td><td>-0.7555467   </td><td>-0.8722997   </td><td> 0.2086816406</td><td> 1.659262e+00</td><td>-1.147134e+00</td><td>-0.68397579  </td></tr>\n",
       "\t<tr><td>1422738000   </td><td>-0.7944214   </td><td>-0.8728406   </td><td>-0.3203877734</td><td> 1.915951e+00</td><td>-1.622292e+00</td><td>-0.61833429  </td></tr>\n",
       "\t<tr><td>1422741600   </td><td>-0.8826256   </td><td>-0.8733815   </td><td>-0.1713052735</td><td> 1.659262e+00</td><td>-1.986894e+00</td><td>-0.55182799  </td></tr>\n",
       "\t<tr><td>1422745200   </td><td>-1.0346170   </td><td>-0.8739224   </td><td>-0.0281501291</td><td> 9.579755e-01</td><td>-2.216092e+00</td><td>-0.48454991  </td></tr>\n",
       "\t<tr><td>1422748800   </td><td>-1.2015302   </td><td>-0.8744632   </td><td> 0.3611903486</td><td> 9.974778e-14</td><td>-2.294267e+00</td><td>-0.41659414  </td></tr>\n",
       "\t<tr><td>1422752400   </td><td>-1.3539560   </td><td>-0.8750041   </td><td> 0.5669838526</td><td>-9.579755e-01</td><td>-2.216092e+00</td><td>-0.34805573  </td></tr>\n",
       "\t<tr><td>1422756000   </td><td>-1.4892124   </td><td>-0.8755450   </td><td>-0.3970958259</td><td>-1.659262e+00</td><td>-1.986894e+00</td><td>-0.27903054  </td></tr>\n",
       "\t<tr><td>1422759600   </td><td>-1.4648509   </td><td>-0.8760859   </td><td>-0.1097490951</td><td>-1.915951e+00</td><td>-1.622292e+00</td><td>-0.20961509  </td></tr>\n",
       "\t<tr><td>1422763200   </td><td>-1.3279187   </td><td>-0.8766267   </td><td> 0.1842419832</td><td>-1.659262e+00</td><td>-1.147134e+00</td><td>-0.13990647  </td></tr>\n",
       "\t<tr><td>1422766800   </td><td>-1.1082891   </td><td>-0.8771676   </td><td> 0.2135975608</td><td>-9.579755e-01</td><td>-5.938001e-01</td><td>-0.07000219  </td></tr>\n",
       "</tbody>\n",
       "</table>\n"
      ],
      "text/latex": [
       "\\begin{tabular}{r|lllllll}\n",
       " timestamps & value & trend & noise & seasonality1 & seasonality2 & seasonality3\\\\\n",
       "\\hline\n",
       "\t 1416722400    &  0.0340713470 & 0.03150748    &  0.076857686  &  2.501110e-16 & -4.501564e-18 & 7.797788e-17 \\\\\n",
       "\t 1416726000    &  0.0729076861 & 0.03150748    & -0.125356420  &  1.881166e-01 &  7.961877e-02 & 1.166703e-02 \\\\\n",
       "\t 1416729600    &  0.1135894285 & 0.03150748    & -0.060570005  &  3.258275e-01 &  1.538116e-01 & 2.331775e-02 \\\\\n",
       "\t 1416733200    &  0.1426282998 & 0.03150748    &  0.142128307  &  3.762332e-01 &  2.175225e-01 & 3.493585e-02 \\\\\n",
       "\t 1416736800    &  0.1358381551 & 0.03150748    &  0.017991096  &  3.258275e-01 &  2.664096e-01 & 4.650509e-02 \\\\\n",
       "\t 1416740400    &  0.1203614298 & 0.03150748    &  0.121853075  &  1.881166e-01 &  2.971413e-01 & 5.800929e-02 \\\\\n",
       "\t 1416744000    &  0.0837008490 & 0.03150748    &  0.031411030  &  2.961863e-16 &  3.076233e-01 & 6.943236e-02 \\\\\n",
       "\t 1416747600    &  0.0531322383 & 0.03150748    &  0.143234982  & -1.881166e-01 &  2.971413e-01 & 8.075832e-02 \\\\\n",
       "\t 1416751200    &  0.0021072890 & 0.03150748    & -0.340552065  & -3.258275e-01 &  2.664096e-01 & 9.197133e-02 \\\\\n",
       "\t 1416754800    &  0.0009378338 & 0.03150748    & -0.025110003  & -3.762332e-01 &  2.175225e-01 & 1.030557e-01 \\\\\n",
       "\t 1416758400    &  0.0169939279 & 0.03150748    &  0.301629749  & -3.258275e-01 &  1.538116e-01 & 1.139960e-01 \\\\\n",
       "\t 1416762000    &  0.0135009256 & 0.03150748    & -0.131277630  & -1.881166e-01 &  7.961877e-02 & 1.247768e-01 \\\\\n",
       "\t 1416765600    &  0.0456538649 & 0.03150748    &  0.032912203  &  1.579604e-16 &  3.317142e-17 & 1.353831e-01 \\\\\n",
       "\t 1416769200    &  0.0653846406 & 0.03150748    & -0.077087037  &  1.881166e-01 & -7.961877e-02 & 1.458000e-01 \\\\\n",
       "\t 1416772800    &  0.0909021291 & 0.03150748    &  0.132579625  &  3.258275e-01 & -1.538116e-01 & 1.560131e-01 \\\\\n",
       "\t 1416776400    &  0.0890612714 & 0.03150748    &  0.065778083  &  3.762332e-01 & -2.175225e-01 & 1.660079e-01 \\\\\n",
       "\t 1416780000    &  0.0788872777 & 0.03150748    &  0.185091463  &  3.258275e-01 & -2.664096e-01 & 1.757706e-01 \\\\\n",
       "\t 1416783600    &  0.0374603837 & 0.03150748    & -0.082759138  &  1.881166e-01 & -2.971413e-01 & 1.852874e-01 \\\\\n",
       "\t 1416787200    &  0.0049654700 & 0.03150748    & -0.008935683  &  3.883369e-16 & -3.076233e-01 & 1.945451e-01 \\\\\n",
       "\t 1416790800    & -0.0204755492 & 0.03150748    &  0.154046894  & -1.881166e-01 & -2.971413e-01 & 2.035308e-01 \\\\\n",
       "\t 1416794400    & -0.0526152008 & 0.03150748    & -0.104235870  & -3.258275e-01 & -2.664096e-01 & 2.122317e-01 \\\\\n",
       "\t 1416798000    & -0.0420796111 & 0.03150748    &  0.161649098  & -3.762332e-01 & -2.175225e-01 & 2.206358e-01 \\\\\n",
       "\t 1416801600    & -0.0249640464 & 0.03150748    &  0.108572236  & -3.258275e-01 & -1.538116e-01 & 2.287314e-01 \\\\\n",
       "\t 1416805200    &  0.0113411436 & 0.03150748    &  0.085195755  & -1.881166e-01 & -7.961877e-02 & 2.365070e-01 \\\\\n",
       "\t 1416808800    &  0.0505503096 & 0.03150748    & -0.099420705  &  6.580988e-17 & -7.984754e-17 & 2.439519e-01 \\\\\n",
       "\t 1416812400    &  0.1022991457 & 0.03150748    & -0.006074855  &  1.881166e-01 &  7.961877e-02 & 2.510556e-01 \\\\\n",
       "\t 1416816000    &  0.1420404813 & 0.03150748    &  0.048776327  &  3.258275e-01 &  1.538116e-01 & 2.578081e-01 \\\\\n",
       "\t 1416819600    &  0.1533684271 & 0.03150748    & -0.128468756  &  3.762332e-01 &  2.175225e-01 & 2.642001e-01 \\\\\n",
       "\t 1416823200    &  0.1575820752 & 0.03150748    &  0.002938628  &  3.258275e-01 &  2.664096e-01 & 2.702226e-01 \\\\\n",
       "\t 1416826800    &  0.1394830709 & 0.03150748    &  0.061815878  &  1.881166e-01 &  2.971413e-01 & 2.758672e-01 \\\\\n",
       "\t ⋮ & ⋮ & ⋮ & ⋮ & ⋮ & ⋮ & ⋮\\\\\n",
       "\t 1422662400    & -1.2975497    & -0.8614822    &  0.7765106745 &  1.712732e-14 & -2.294267e+00 & -1.68675525  \\\\\n",
       "\t 1422666000    & -1.5164938    & -0.8620230    & -0.4062178701 & -9.579755e-01 & -2.216092e+00 & -1.65520290  \\\\\n",
       "\t 1422669600    & -1.6257536    & -0.8625639    & -0.7177028719 & -1.659262e+00 & -1.986894e+00 & -1.62133560  \\\\\n",
       "\t 1422673200    & -1.6429918    & -0.8631048    & -1.2762257181 & -1.915951e+00 & -1.622292e+00 & -1.58520071  \\\\\n",
       "\t 1422676800    & -1.4542193    & -0.8636457    &  0.2332478808 & -1.659262e+00 & -1.147134e+00 & -1.54684878  \\\\\n",
       "\t 1422680400    & -1.2576265    & -0.8641865    & -0.1815358484 & -9.579755e-01 & -5.938001e-01 & -1.50633344  \\\\\n",
       "\t 1422684000    & -0.9643932    & -0.8647274    &  0.3423717225 & -2.551006e-13 & -1.528902e-13 & -1.46371135  \\\\\n",
       "\t 1422687600    & -0.7385231    & -0.8652683    & -0.6274127824 &  9.579755e-01 &  5.938001e-01 & -1.41904213  \\\\\n",
       "\t 1422691200    & -0.4787106    & -0.8658092    &  0.3417589747 &  1.659262e+00 &  1.147134e+00 & -1.37238826  \\\\\n",
       "\t 1422694800    & -0.4132135    & -0.8663501    & -0.8965857551 &  1.915951e+00 &  1.622292e+00 & -1.32381497  \\\\\n",
       "\t 1422698400    & -0.3700852    & -0.8668909    & -0.1522913283 &  1.659262e+00 &  1.986894e+00 & -1.27339021  \\\\\n",
       "\t 1422702000    & -0.4388342    & -0.8674318    &  0.3911348357 &  9.579755e-01 &  2.216092e+00 & -1.22118450  \\\\\n",
       "\t 1422705600    & -0.6170564    & -0.8679727    &  0.0590686342 &  5.843755e-14 &  2.294267e+00 & -1.16727085  \\\\\n",
       "\t 1422709200    & -0.8136550    & -0.8685136    & -0.1803278022 & -9.579755e-01 &  2.216092e+00 & -1.11172467  \\\\\n",
       "\t 1422712800    & -0.9724952    & -0.8690545    & -0.1660234002 & -1.659262e+00 &  1.986894e+00 & -1.05462364  \\\\\n",
       "\t 1422716400    & -1.0696910    & -0.8695953    & -0.1981396600 & -1.915951e+00 &  1.622292e+00 & -0.99604762  \\\\\n",
       "\t 1422720000    & -1.0762074    & -0.8701362    &  0.0006841905 & -1.659262e+00 &  1.147134e+00 & -0.93607854  \\\\\n",
       "\t 1422723600    & -1.0856668    & -0.8706771    & -1.4582728349 & -9.579755e-01 &  5.938001e-01 & -0.87480027  \\\\\n",
       "\t 1422727200    & -0.8938012    & -0.8712180    &  0.5977316608 & -7.859244e-14 &  4.720075e-14 & -0.81229852  \\\\\n",
       "\t 1422730800    & -0.7936613    & -0.8717588    &  0.6234998532 &  9.579755e-01 & -5.938001e-01 & -0.74866069  \\\\\n",
       "\t 1422734400    & -0.7555467    & -0.8722997    &  0.2086816406 &  1.659262e+00 & -1.147134e+00 & -0.68397579  \\\\\n",
       "\t 1422738000    & -0.7944214    & -0.8728406    & -0.3203877734 &  1.915951e+00 & -1.622292e+00 & -0.61833429  \\\\\n",
       "\t 1422741600    & -0.8826256    & -0.8733815    & -0.1713052735 &  1.659262e+00 & -1.986894e+00 & -0.55182799  \\\\\n",
       "\t 1422745200    & -1.0346170    & -0.8739224    & -0.0281501291 &  9.579755e-01 & -2.216092e+00 & -0.48454991  \\\\\n",
       "\t 1422748800    & -1.2015302    & -0.8744632    &  0.3611903486 &  9.974778e-14 & -2.294267e+00 & -0.41659414  \\\\\n",
       "\t 1422752400    & -1.3539560    & -0.8750041    &  0.5669838526 & -9.579755e-01 & -2.216092e+00 & -0.34805573  \\\\\n",
       "\t 1422756000    & -1.4892124    & -0.8755450    & -0.3970958259 & -1.659262e+00 & -1.986894e+00 & -0.27903054  \\\\\n",
       "\t 1422759600    & -1.4648509    & -0.8760859    & -0.1097490951 & -1.915951e+00 & -1.622292e+00 & -0.20961509  \\\\\n",
       "\t 1422763200    & -1.3279187    & -0.8766267    &  0.1842419832 & -1.659262e+00 & -1.147134e+00 & -0.13990647  \\\\\n",
       "\t 1422766800    & -1.1082891    & -0.8771676    &  0.2135975608 & -9.579755e-01 & -5.938001e-01 & -0.07000219  \\\\\n",
       "\\end{tabular}\n"
      ],
      "text/markdown": [
       "\n",
       "timestamps | value | trend | noise | seasonality1 | seasonality2 | seasonality3 | \n",
       "|---|---|---|---|---|---|---|---|---|---|---|---|---|---|---|---|---|---|---|---|---|---|---|---|---|---|---|---|---|---|---|---|---|---|---|---|---|---|---|---|---|---|---|---|---|---|---|---|---|---|---|---|---|---|---|---|---|---|---|---|---|\n",
       "| 1416722400    |  0.0340713470 | 0.03150748    |  0.076857686  |  2.501110e-16 | -4.501564e-18 | 7.797788e-17  | \n",
       "| 1416726000    |  0.0729076861 | 0.03150748    | -0.125356420  |  1.881166e-01 |  7.961877e-02 | 1.166703e-02  | \n",
       "| 1416729600    |  0.1135894285 | 0.03150748    | -0.060570005  |  3.258275e-01 |  1.538116e-01 | 2.331775e-02  | \n",
       "| 1416733200    |  0.1426282998 | 0.03150748    |  0.142128307  |  3.762332e-01 |  2.175225e-01 | 3.493585e-02  | \n",
       "| 1416736800    |  0.1358381551 | 0.03150748    |  0.017991096  |  3.258275e-01 |  2.664096e-01 | 4.650509e-02  | \n",
       "| 1416740400    |  0.1203614298 | 0.03150748    |  0.121853075  |  1.881166e-01 |  2.971413e-01 | 5.800929e-02  | \n",
       "| 1416744000    |  0.0837008490 | 0.03150748    |  0.031411030  |  2.961863e-16 |  3.076233e-01 | 6.943236e-02  | \n",
       "| 1416747600    |  0.0531322383 | 0.03150748    |  0.143234982  | -1.881166e-01 |  2.971413e-01 | 8.075832e-02  | \n",
       "| 1416751200    |  0.0021072890 | 0.03150748    | -0.340552065  | -3.258275e-01 |  2.664096e-01 | 9.197133e-02  | \n",
       "| 1416754800    |  0.0009378338 | 0.03150748    | -0.025110003  | -3.762332e-01 |  2.175225e-01 | 1.030557e-01  | \n",
       "| 1416758400    |  0.0169939279 | 0.03150748    |  0.301629749  | -3.258275e-01 |  1.538116e-01 | 1.139960e-01  | \n",
       "| 1416762000    |  0.0135009256 | 0.03150748    | -0.131277630  | -1.881166e-01 |  7.961877e-02 | 1.247768e-01  | \n",
       "| 1416765600    |  0.0456538649 | 0.03150748    |  0.032912203  |  1.579604e-16 |  3.317142e-17 | 1.353831e-01  | \n",
       "| 1416769200    |  0.0653846406 | 0.03150748    | -0.077087037  |  1.881166e-01 | -7.961877e-02 | 1.458000e-01  | \n",
       "| 1416772800    |  0.0909021291 | 0.03150748    |  0.132579625  |  3.258275e-01 | -1.538116e-01 | 1.560131e-01  | \n",
       "| 1416776400    |  0.0890612714 | 0.03150748    |  0.065778083  |  3.762332e-01 | -2.175225e-01 | 1.660079e-01  | \n",
       "| 1416780000    |  0.0788872777 | 0.03150748    |  0.185091463  |  3.258275e-01 | -2.664096e-01 | 1.757706e-01  | \n",
       "| 1416783600    |  0.0374603837 | 0.03150748    | -0.082759138  |  1.881166e-01 | -2.971413e-01 | 1.852874e-01  | \n",
       "| 1416787200    |  0.0049654700 | 0.03150748    | -0.008935683  |  3.883369e-16 | -3.076233e-01 | 1.945451e-01  | \n",
       "| 1416790800    | -0.0204755492 | 0.03150748    |  0.154046894  | -1.881166e-01 | -2.971413e-01 | 2.035308e-01  | \n",
       "| 1416794400    | -0.0526152008 | 0.03150748    | -0.104235870  | -3.258275e-01 | -2.664096e-01 | 2.122317e-01  | \n",
       "| 1416798000    | -0.0420796111 | 0.03150748    |  0.161649098  | -3.762332e-01 | -2.175225e-01 | 2.206358e-01  | \n",
       "| 1416801600    | -0.0249640464 | 0.03150748    |  0.108572236  | -3.258275e-01 | -1.538116e-01 | 2.287314e-01  | \n",
       "| 1416805200    |  0.0113411436 | 0.03150748    |  0.085195755  | -1.881166e-01 | -7.961877e-02 | 2.365070e-01  | \n",
       "| 1416808800    |  0.0505503096 | 0.03150748    | -0.099420705  |  6.580988e-17 | -7.984754e-17 | 2.439519e-01  | \n",
       "| 1416812400    |  0.1022991457 | 0.03150748    | -0.006074855  |  1.881166e-01 |  7.961877e-02 | 2.510556e-01  | \n",
       "| 1416816000    |  0.1420404813 | 0.03150748    |  0.048776327  |  3.258275e-01 |  1.538116e-01 | 2.578081e-01  | \n",
       "| 1416819600    |  0.1533684271 | 0.03150748    | -0.128468756  |  3.762332e-01 |  2.175225e-01 | 2.642001e-01  | \n",
       "| 1416823200    |  0.1575820752 | 0.03150748    |  0.002938628  |  3.258275e-01 |  2.664096e-01 | 2.702226e-01  | \n",
       "| 1416826800    |  0.1394830709 | 0.03150748    |  0.061815878  |  1.881166e-01 |  2.971413e-01 | 2.758672e-01  | \n",
       "| ⋮ | ⋮ | ⋮ | ⋮ | ⋮ | ⋮ | ⋮ | \n",
       "| 1422662400    | -1.2975497    | -0.8614822    |  0.7765106745 |  1.712732e-14 | -2.294267e+00 | -1.68675525   | \n",
       "| 1422666000    | -1.5164938    | -0.8620230    | -0.4062178701 | -9.579755e-01 | -2.216092e+00 | -1.65520290   | \n",
       "| 1422669600    | -1.6257536    | -0.8625639    | -0.7177028719 | -1.659262e+00 | -1.986894e+00 | -1.62133560   | \n",
       "| 1422673200    | -1.6429918    | -0.8631048    | -1.2762257181 | -1.915951e+00 | -1.622292e+00 | -1.58520071   | \n",
       "| 1422676800    | -1.4542193    | -0.8636457    |  0.2332478808 | -1.659262e+00 | -1.147134e+00 | -1.54684878   | \n",
       "| 1422680400    | -1.2576265    | -0.8641865    | -0.1815358484 | -9.579755e-01 | -5.938001e-01 | -1.50633344   | \n",
       "| 1422684000    | -0.9643932    | -0.8647274    |  0.3423717225 | -2.551006e-13 | -1.528902e-13 | -1.46371135   | \n",
       "| 1422687600    | -0.7385231    | -0.8652683    | -0.6274127824 |  9.579755e-01 |  5.938001e-01 | -1.41904213   | \n",
       "| 1422691200    | -0.4787106    | -0.8658092    |  0.3417589747 |  1.659262e+00 |  1.147134e+00 | -1.37238826   | \n",
       "| 1422694800    | -0.4132135    | -0.8663501    | -0.8965857551 |  1.915951e+00 |  1.622292e+00 | -1.32381497   | \n",
       "| 1422698400    | -0.3700852    | -0.8668909    | -0.1522913283 |  1.659262e+00 |  1.986894e+00 | -1.27339021   | \n",
       "| 1422702000    | -0.4388342    | -0.8674318    |  0.3911348357 |  9.579755e-01 |  2.216092e+00 | -1.22118450   | \n",
       "| 1422705600    | -0.6170564    | -0.8679727    |  0.0590686342 |  5.843755e-14 |  2.294267e+00 | -1.16727085   | \n",
       "| 1422709200    | -0.8136550    | -0.8685136    | -0.1803278022 | -9.579755e-01 |  2.216092e+00 | -1.11172467   | \n",
       "| 1422712800    | -0.9724952    | -0.8690545    | -0.1660234002 | -1.659262e+00 |  1.986894e+00 | -1.05462364   | \n",
       "| 1422716400    | -1.0696910    | -0.8695953    | -0.1981396600 | -1.915951e+00 |  1.622292e+00 | -0.99604762   | \n",
       "| 1422720000    | -1.0762074    | -0.8701362    |  0.0006841905 | -1.659262e+00 |  1.147134e+00 | -0.93607854   | \n",
       "| 1422723600    | -1.0856668    | -0.8706771    | -1.4582728349 | -9.579755e-01 |  5.938001e-01 | -0.87480027   | \n",
       "| 1422727200    | -0.8938012    | -0.8712180    |  0.5977316608 | -7.859244e-14 |  4.720075e-14 | -0.81229852   | \n",
       "| 1422730800    | -0.7936613    | -0.8717588    |  0.6234998532 |  9.579755e-01 | -5.938001e-01 | -0.74866069   | \n",
       "| 1422734400    | -0.7555467    | -0.8722997    |  0.2086816406 |  1.659262e+00 | -1.147134e+00 | -0.68397579   | \n",
       "| 1422738000    | -0.7944214    | -0.8728406    | -0.3203877734 |  1.915951e+00 | -1.622292e+00 | -0.61833429   | \n",
       "| 1422741600    | -0.8826256    | -0.8733815    | -0.1713052735 |  1.659262e+00 | -1.986894e+00 | -0.55182799   | \n",
       "| 1422745200    | -1.0346170    | -0.8739224    | -0.0281501291 |  9.579755e-01 | -2.216092e+00 | -0.48454991   | \n",
       "| 1422748800    | -1.2015302    | -0.8744632    |  0.3611903486 |  9.974778e-14 | -2.294267e+00 | -0.41659414   | \n",
       "| 1422752400    | -1.3539560    | -0.8750041    |  0.5669838526 | -9.579755e-01 | -2.216092e+00 | -0.34805573   | \n",
       "| 1422756000    | -1.4892124    | -0.8755450    | -0.3970958259 | -1.659262e+00 | -1.986894e+00 | -0.27903054   | \n",
       "| 1422759600    | -1.4648509    | -0.8760859    | -0.1097490951 | -1.915951e+00 | -1.622292e+00 | -0.20961509   | \n",
       "| 1422763200    | -1.3279187    | -0.8766267    |  0.1842419832 | -1.659262e+00 | -1.147134e+00 | -0.13990647   | \n",
       "| 1422766800    | -1.1082891    | -0.8771676    |  0.2135975608 | -9.579755e-01 | -5.938001e-01 | -0.07000219   | \n",
       "\n",
       "\n"
      ],
      "text/plain": [
       "       timestamps value         trend      noise         seasonality1 \n",
       "1      1416722400  0.0340713470 0.03150748  0.076857686   2.501110e-16\n",
       "2      1416726000  0.0729076861 0.03150748 -0.125356420   1.881166e-01\n",
       "3      1416729600  0.1135894285 0.03150748 -0.060570005   3.258275e-01\n",
       "4      1416733200  0.1426282998 0.03150748  0.142128307   3.762332e-01\n",
       "5      1416736800  0.1358381551 0.03150748  0.017991096   3.258275e-01\n",
       "6      1416740400  0.1203614298 0.03150748  0.121853075   1.881166e-01\n",
       "7      1416744000  0.0837008490 0.03150748  0.031411030   2.961863e-16\n",
       "8      1416747600  0.0531322383 0.03150748  0.143234982  -1.881166e-01\n",
       "9      1416751200  0.0021072890 0.03150748 -0.340552065  -3.258275e-01\n",
       "10     1416754800  0.0009378338 0.03150748 -0.025110003  -3.762332e-01\n",
       "11     1416758400  0.0169939279 0.03150748  0.301629749  -3.258275e-01\n",
       "12     1416762000  0.0135009256 0.03150748 -0.131277630  -1.881166e-01\n",
       "13     1416765600  0.0456538649 0.03150748  0.032912203   1.579604e-16\n",
       "14     1416769200  0.0653846406 0.03150748 -0.077087037   1.881166e-01\n",
       "15     1416772800  0.0909021291 0.03150748  0.132579625   3.258275e-01\n",
       "16     1416776400  0.0890612714 0.03150748  0.065778083   3.762332e-01\n",
       "17     1416780000  0.0788872777 0.03150748  0.185091463   3.258275e-01\n",
       "18     1416783600  0.0374603837 0.03150748 -0.082759138   1.881166e-01\n",
       "19     1416787200  0.0049654700 0.03150748 -0.008935683   3.883369e-16\n",
       "20     1416790800 -0.0204755492 0.03150748  0.154046894  -1.881166e-01\n",
       "21     1416794400 -0.0526152008 0.03150748 -0.104235870  -3.258275e-01\n",
       "22     1416798000 -0.0420796111 0.03150748  0.161649098  -3.762332e-01\n",
       "23     1416801600 -0.0249640464 0.03150748  0.108572236  -3.258275e-01\n",
       "24     1416805200  0.0113411436 0.03150748  0.085195755  -1.881166e-01\n",
       "25     1416808800  0.0505503096 0.03150748 -0.099420705   6.580988e-17\n",
       "26     1416812400  0.1022991457 0.03150748 -0.006074855   1.881166e-01\n",
       "27     1416816000  0.1420404813 0.03150748  0.048776327   3.258275e-01\n",
       "28     1416819600  0.1533684271 0.03150748 -0.128468756   3.762332e-01\n",
       "29     1416823200  0.1575820752 0.03150748  0.002938628   3.258275e-01\n",
       "30     1416826800  0.1394830709 0.03150748  0.061815878   1.881166e-01\n",
       "⋮      ⋮          ⋮             ⋮          ⋮             ⋮            \n",
       "169651 1422662400 -1.2975497    -0.8614822  0.7765106745  1.712732e-14\n",
       "169652 1422666000 -1.5164938    -0.8620230 -0.4062178701 -9.579755e-01\n",
       "169653 1422669600 -1.6257536    -0.8625639 -0.7177028719 -1.659262e+00\n",
       "169654 1422673200 -1.6429918    -0.8631048 -1.2762257181 -1.915951e+00\n",
       "169655 1422676800 -1.4542193    -0.8636457  0.2332478808 -1.659262e+00\n",
       "169656 1422680400 -1.2576265    -0.8641865 -0.1815358484 -9.579755e-01\n",
       "169657 1422684000 -0.9643932    -0.8647274  0.3423717225 -2.551006e-13\n",
       "169658 1422687600 -0.7385231    -0.8652683 -0.6274127824  9.579755e-01\n",
       "169659 1422691200 -0.4787106    -0.8658092  0.3417589747  1.659262e+00\n",
       "169660 1422694800 -0.4132135    -0.8663501 -0.8965857551  1.915951e+00\n",
       "169661 1422698400 -0.3700852    -0.8668909 -0.1522913283  1.659262e+00\n",
       "169662 1422702000 -0.4388342    -0.8674318  0.3911348357  9.579755e-01\n",
       "169663 1422705600 -0.6170564    -0.8679727  0.0590686342  5.843755e-14\n",
       "169664 1422709200 -0.8136550    -0.8685136 -0.1803278022 -9.579755e-01\n",
       "169665 1422712800 -0.9724952    -0.8690545 -0.1660234002 -1.659262e+00\n",
       "169666 1422716400 -1.0696910    -0.8695953 -0.1981396600 -1.915951e+00\n",
       "169667 1422720000 -1.0762074    -0.8701362  0.0006841905 -1.659262e+00\n",
       "169668 1422723600 -1.0856668    -0.8706771 -1.4582728349 -9.579755e-01\n",
       "169669 1422727200 -0.8938012    -0.8712180  0.5977316608 -7.859244e-14\n",
       "169670 1422730800 -0.7936613    -0.8717588  0.6234998532  9.579755e-01\n",
       "169671 1422734400 -0.7555467    -0.8722997  0.2086816406  1.659262e+00\n",
       "169672 1422738000 -0.7944214    -0.8728406 -0.3203877734  1.915951e+00\n",
       "169673 1422741600 -0.8826256    -0.8733815 -0.1713052735  1.659262e+00\n",
       "169674 1422745200 -1.0346170    -0.8739224 -0.0281501291  9.579755e-01\n",
       "169675 1422748800 -1.2015302    -0.8744632  0.3611903486  9.974778e-14\n",
       "169676 1422752400 -1.3539560    -0.8750041  0.5669838526 -9.579755e-01\n",
       "169677 1422756000 -1.4892124    -0.8755450 -0.3970958259 -1.659262e+00\n",
       "169678 1422759600 -1.4648509    -0.8760859 -0.1097490951 -1.915951e+00\n",
       "169679 1422763200 -1.3279187    -0.8766267  0.1842419832 -1.659262e+00\n",
       "169680 1422766800 -1.1082891    -0.8771676  0.2135975608 -9.579755e-01\n",
       "       seasonality2  seasonality3\n",
       "1      -4.501564e-18 7.797788e-17\n",
       "2       7.961877e-02 1.166703e-02\n",
       "3       1.538116e-01 2.331775e-02\n",
       "4       2.175225e-01 3.493585e-02\n",
       "5       2.664096e-01 4.650509e-02\n",
       "6       2.971413e-01 5.800929e-02\n",
       "7       3.076233e-01 6.943236e-02\n",
       "8       2.971413e-01 8.075832e-02\n",
       "9       2.664096e-01 9.197133e-02\n",
       "10      2.175225e-01 1.030557e-01\n",
       "11      1.538116e-01 1.139960e-01\n",
       "12      7.961877e-02 1.247768e-01\n",
       "13      3.317142e-17 1.353831e-01\n",
       "14     -7.961877e-02 1.458000e-01\n",
       "15     -1.538116e-01 1.560131e-01\n",
       "16     -2.175225e-01 1.660079e-01\n",
       "17     -2.664096e-01 1.757706e-01\n",
       "18     -2.971413e-01 1.852874e-01\n",
       "19     -3.076233e-01 1.945451e-01\n",
       "20     -2.971413e-01 2.035308e-01\n",
       "21     -2.664096e-01 2.122317e-01\n",
       "22     -2.175225e-01 2.206358e-01\n",
       "23     -1.538116e-01 2.287314e-01\n",
       "24     -7.961877e-02 2.365070e-01\n",
       "25     -7.984754e-17 2.439519e-01\n",
       "26      7.961877e-02 2.510556e-01\n",
       "27      1.538116e-01 2.578081e-01\n",
       "28      2.175225e-01 2.642001e-01\n",
       "29      2.664096e-01 2.702226e-01\n",
       "30      2.971413e-01 2.758672e-01\n",
       "⋮      ⋮             ⋮           \n",
       "169651 -2.294267e+00 -1.68675525 \n",
       "169652 -2.216092e+00 -1.65520290 \n",
       "169653 -1.986894e+00 -1.62133560 \n",
       "169654 -1.622292e+00 -1.58520071 \n",
       "169655 -1.147134e+00 -1.54684878 \n",
       "169656 -5.938001e-01 -1.50633344 \n",
       "169657 -1.528902e-13 -1.46371135 \n",
       "169658  5.938001e-01 -1.41904213 \n",
       "169659  1.147134e+00 -1.37238826 \n",
       "169660  1.622292e+00 -1.32381497 \n",
       "169661  1.986894e+00 -1.27339021 \n",
       "169662  2.216092e+00 -1.22118450 \n",
       "169663  2.294267e+00 -1.16727085 \n",
       "169664  2.216092e+00 -1.11172467 \n",
       "169665  1.986894e+00 -1.05462364 \n",
       "169666  1.622292e+00 -0.99604762 \n",
       "169667  1.147134e+00 -0.93607854 \n",
       "169668  5.938001e-01 -0.87480027 \n",
       "169669  4.720075e-14 -0.81229852 \n",
       "169670 -5.938001e-01 -0.74866069 \n",
       "169671 -1.147134e+00 -0.68397579 \n",
       "169672 -1.622292e+00 -0.61833429 \n",
       "169673 -1.986894e+00 -0.55182799 \n",
       "169674 -2.216092e+00 -0.48454991 \n",
       "169675 -2.294267e+00 -0.41659414 \n",
       "169676 -2.216092e+00 -0.34805573 \n",
       "169677 -1.986894e+00 -0.27903054 \n",
       "169678 -1.622292e+00 -0.20961509 \n",
       "169679 -1.147134e+00 -0.13990647 \n",
       "169680 -5.938001e-01 -0.07000219 "
      ]
     },
     "metadata": {},
     "output_type": "display_data"
    }
   ],
   "source": [
    "\n",
    "x_trans"
   ]
  },
  {
   "cell_type": "markdown",
   "metadata": {},
   "source": [
    "### Model 1"
   ]
  },
  {
   "cell_type": "code",
   "execution_count": null,
   "metadata": {
    "collapsed": true
   },
   "outputs": [],
   "source": [
    "library(\"caret\")\n",
    "\n",
    "nPeriods <- length(x_tras$timestamps)\n",
    "#capture hour to hour trend correlations\n",
    "x_tras$Lag1 <- c(NA,x_tras$trend[1:(nPeriods-1)])\n",
    "s_trans$t <- seq(1, nPeriods, 1)\n",
    "#daily\n",
    "x_trans$Seasonal_sine = sin(2 * pi * x_trans$t / 24)\n",
    "x_trans$Seasonal_cosine = cos(2 * pi * x_trans$t / 24)\n",
    "train.df <- rain.df[rain.df$Date <= as.Date(\"12/31/2009\", format=\"%m/%d/%Y\"), ]\n",
    "train.df <- train.df[-1,]\n",
    "valid.df <- rain.df[rain.df$Date > as.Date(\"12/31/2009\", format=\"%m/%d/%Y\"), ]\n",
    "xvalid <- valid.df[, c(4,6,7)]\n",
    "  \n",
    "rainy.lr <- glm(Rainy ~ Lag1 + Seasonal_sine + Seasonal_cosine, data = train.df, family = \"binomial\")\n",
    "summary(rainy.lr)\n",
    "rainy.lr.pred <- predict(rainy.lr, xvalid, type = \"response\") \n",
    "confusionMatrix(ifelse(rainy.lr$fitted > 0.5, 1, 0), train.df$Rainy)\n",
    "confusionMatrix(ifelse(rainy.lr.pred > 0.5, 1, 0), valid.df$Rainy)\n",
    "\n",
    "\n"
   ]
  },
  {
   "cell_type": "markdown",
   "metadata": {
    "deletable": true,
    "editable": true
   },
   "source": [
    "It does not appear that any of our predictors have a high correlation."
   ]
  },
  {
   "cell_type": "markdown",
   "metadata": {
    "collapsed": true,
    "deletable": true,
    "editable": true
   },
   "source": [
    "## Tools\n",
    "\n",
    "Since we are all new to anomaly/outlier detection, we plan on taking multiple approaches to solve.  We will most likely use R and Python libraries to help is developing a solution.\n",
    "\n",
    "## Deliverable\n",
    "\n",
    "A confusion matrix along with key metrics such as Recall, Precision, F1-score, Balance Accuracy.  Also, graphical summary such as ROC curve and Precision-Recall Plot. "
   ]
  }
 ],
 "metadata": {
  "kernelspec": {
   "display_name": "R",
   "language": "R",
   "name": "ir"
  },
  "language_info": {
   "codemirror_mode": "r",
   "file_extension": ".r",
   "mimetype": "text/x-r-source",
   "name": "R",
   "pygments_lexer": "r",
   "version": "3.2.3"
  }
 },
 "nbformat": 4,
 "nbformat_minor": 0
}
