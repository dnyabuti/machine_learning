{
 "cells": [
  {
   "cell_type": "raw",
   "metadata": {},
   "source": [
    "\\begin{center} SEIS734-02 \\end{center}\n",
    "\\begin{center} HW - 8 \\end{center}"
   ]
  },
  {
   "cell_type": "markdown",
   "metadata": {},
   "source": [
    "\\section[Section Title]{Load Data\\\\}\n",
    "\n",
    "The dataset contains more than 9,211,031 NYSE trade data.\n",
    "\n",
    "\n",
    "The first step was to extract `NYSE_DM.7z` and save the extracted file in the same directory with this script."
   ]
  },
  {
   "cell_type": "code",
   "execution_count": 1,
   "metadata": {
    "collapsed": false
   },
   "outputs": [
    {
     "data": {
      "text/html": [
       "<table>\n",
       "<thead><tr><th scope=col>V1</th><th scope=col>V2</th><th scope=col>V3</th><th scope=col>V4</th><th scope=col>V5</th><th scope=col>V6</th><th scope=col>V7</th></tr></thead>\n",
       "<tbody>\n",
       "\t<tr><td>157801</td><td>25    </td><td>25    </td><td>25    </td><td>25    </td><td>0     </td><td>1.32  </td></tr>\n",
       "\t<tr><td>279752</td><td>25    </td><td>25    </td><td>25    </td><td>25    </td><td>0     </td><td>6.34  </td></tr>\n",
       "\t<tr><td>346856</td><td>25    </td><td>25    </td><td>25    </td><td>25    </td><td>0     </td><td>4.96  </td></tr>\n",
       "\t<tr><td>347167</td><td>25    </td><td>25    </td><td>25    </td><td>25    </td><td>0     </td><td>4.62  </td></tr>\n",
       "\t<tr><td>347169</td><td>25    </td><td>25    </td><td>25    </td><td>25    </td><td>0     </td><td>4.62  </td></tr>\n",
       "\t<tr><td>347170</td><td>25    </td><td>25    </td><td>25    </td><td>25    </td><td>0     </td><td>4.62  </td></tr>\n",
       "</tbody>\n",
       "</table>\n"
      ],
      "text/latex": [
       "\\begin{tabular}{r|lllllll}\n",
       " V1 & V2 & V3 & V4 & V5 & V6 & V7\\\\\n",
       "\\hline\n",
       "\t 157801 & 25     & 25     & 25     & 25     & 0      & 1.32  \\\\\n",
       "\t 279752 & 25     & 25     & 25     & 25     & 0      & 6.34  \\\\\n",
       "\t 346856 & 25     & 25     & 25     & 25     & 0      & 4.96  \\\\\n",
       "\t 347167 & 25     & 25     & 25     & 25     & 0      & 4.62  \\\\\n",
       "\t 347169 & 25     & 25     & 25     & 25     & 0      & 4.62  \\\\\n",
       "\t 347170 & 25     & 25     & 25     & 25     & 0      & 4.62  \\\\\n",
       "\\end{tabular}\n"
      ],
      "text/plain": [
       "  V1     V2 V3 V4 V5 V6 V7  \n",
       "1 157801 25 25 25 25 0  1.32\n",
       "2 279752 25 25 25 25 0  6.34\n",
       "3 346856 25 25 25 25 0  4.96\n",
       "4 347167 25 25 25 25 0  4.62\n",
       "5 347169 25 25 25 25 0  4.62\n",
       "6 347170 25 25 25 25 0  4.62"
      ]
     },
     "metadata": {},
     "output_type": "display_data"
    }
   ],
   "source": [
    "data <- read.csv(\"NYSE_DM.csv\", header = FALSE)\n",
    "head(data)"
   ]
  },
  {
   "cell_type": "markdown",
   "metadata": {},
   "source": [
    "> **Add names to the dataframe **"
   ]
  },
  {
   "cell_type": "code",
   "execution_count": 2,
   "metadata": {
    "collapsed": false
   },
   "outputs": [
    {
     "data": {
      "text/html": [
       "<table>\n",
       "<thead><tr><th scope=col>ID</th><th scope=col>OPEN_P</th><th scope=col>HIGH_P</th><th scope=col>LOW_P</th><th scope=col>CLOSE_P</th><th scope=col>VOLUME</th><th scope=col>CLOSE_ADJ_P</th></tr></thead>\n",
       "<tbody>\n",
       "\t<tr><td>157801</td><td>25    </td><td>25    </td><td>25    </td><td>25    </td><td>0     </td><td>1.32  </td></tr>\n",
       "\t<tr><td>279752</td><td>25    </td><td>25    </td><td>25    </td><td>25    </td><td>0     </td><td>6.34  </td></tr>\n",
       "\t<tr><td>346856</td><td>25    </td><td>25    </td><td>25    </td><td>25    </td><td>0     </td><td>4.96  </td></tr>\n",
       "\t<tr><td>347167</td><td>25    </td><td>25    </td><td>25    </td><td>25    </td><td>0     </td><td>4.62  </td></tr>\n",
       "\t<tr><td>347169</td><td>25    </td><td>25    </td><td>25    </td><td>25    </td><td>0     </td><td>4.62  </td></tr>\n",
       "\t<tr><td>347170</td><td>25    </td><td>25    </td><td>25    </td><td>25    </td><td>0     </td><td>4.62  </td></tr>\n",
       "</tbody>\n",
       "</table>\n"
      ],
      "text/latex": [
       "\\begin{tabular}{r|lllllll}\n",
       " ID & OPEN\\_P & HIGH\\_P & LOW\\_P & CLOSE\\_P & VOLUME & CLOSE\\_ADJ\\_P\\\\\n",
       "\\hline\n",
       "\t 157801 & 25     & 25     & 25     & 25     & 0      & 1.32  \\\\\n",
       "\t 279752 & 25     & 25     & 25     & 25     & 0      & 6.34  \\\\\n",
       "\t 346856 & 25     & 25     & 25     & 25     & 0      & 4.96  \\\\\n",
       "\t 347167 & 25     & 25     & 25     & 25     & 0      & 4.62  \\\\\n",
       "\t 347169 & 25     & 25     & 25     & 25     & 0      & 4.62  \\\\\n",
       "\t 347170 & 25     & 25     & 25     & 25     & 0      & 4.62  \\\\\n",
       "\\end{tabular}\n"
      ],
      "text/plain": [
       "  ID     OPEN_P HIGH_P LOW_P CLOSE_P VOLUME CLOSE_ADJ_P\n",
       "1 157801 25     25     25    25      0      1.32       \n",
       "2 279752 25     25     25    25      0      6.34       \n",
       "3 346856 25     25     25    25      0      4.96       \n",
       "4 347167 25     25     25    25      0      4.62       \n",
       "5 347169 25     25     25    25      0      4.62       \n",
       "6 347170 25     25     25    25      0      4.62       "
      ]
     },
     "metadata": {},
     "output_type": "display_data"
    }
   ],
   "source": [
    "names(data) <- c(\"ID\",\"OPEN_P\",\"HIGH_P\",\"LOW_P\"\n",
    "                 ,\"CLOSE_P\",\"VOLUME\",\"CLOSE_ADJ_P\")\n",
    "head(data)"
   ]
  },
  {
   "cell_type": "markdown",
   "metadata": {},
   "source": [
    "> Use columns 2 to 7 from the input data and perform the k-means clustering with k = 4. If your tool allows you to control the maximum number of iterations, set the maximum number of iterations to 10,000."
   ]
  },
  {
   "cell_type": "raw",
   "metadata": {},
   "source": [
    "\\section{Generate Models}\n",
    "\\subsection{k = 4}"
   ]
  },
  {
   "cell_type": "code",
   "execution_count": 3,
   "metadata": {
    "collapsed": false
   },
   "outputs": [
    {
     "name": "stdout",
     "output_type": "stream",
     "text": [
      "Duration  13.65237  seconds"
     ]
    }
   ],
   "source": [
    "# Set seed for reproducibility\n",
    "set.seed(20)\n",
    "start.time <- Sys.time()\n",
    "nyse4Cluster <- kmeans(x = data[, 2:7]\n",
    "                      ,centers = 4\n",
    "                      ,iter.max = 10000\n",
    "                      ,nstart = 1)\n",
    "end.time = Sys.time()\n",
    "time.taken = end.time - start.time\n",
    "cat(\"Duration \", time.taken, \" seconds\")"
   ]
  },
  {
   "cell_type": "markdown",
   "metadata": {},
   "source": [
    "\\hfill\n",
    "\n",
    "***1. Output the final four centers that were generated from this clustering process. ***\n"
   ]
  },
  {
   "cell_type": "code",
   "execution_count": 4,
   "metadata": {
    "collapsed": false
   },
   "outputs": [
    {
     "data": {
      "text/html": [
       "<table>\n",
       "<thead><tr><th></th><th scope=col>OPEN_P</th><th scope=col>HIGH_P</th><th scope=col>LOW_P</th><th scope=col>CLOSE_P</th><th scope=col>VOLUME</th><th scope=col>CLOSE_ADJ_P</th></tr></thead>\n",
       "<tbody>\n",
       "\t<tr><th scope=row>1</th><td>31.09257   </td><td>31.93051   </td><td>30.11115   </td><td>31.03209   </td><td> 62711915.7</td><td>22.10730   </td></tr>\n",
       "\t<tr><th scope=row>2</th><td>28.21482   </td><td>28.56833   </td><td>27.91018   </td><td>28.26443   </td><td>   500931.3</td><td>19.02216   </td></tr>\n",
       "\t<tr><th scope=row>3</th><td>42.84503   </td><td>43.63152   </td><td>42.02259   </td><td>42.84677   </td><td> 10420542.3</td><td>24.65419   </td></tr>\n",
       "\t<tr><th scope=row>4</th><td>11.22353   </td><td>11.76984   </td><td>10.63157   </td><td>11.23396   </td><td>393693260.4</td><td>10.44012   </td></tr>\n",
       "</tbody>\n",
       "</table>\n"
      ],
      "text/latex": [
       "\\begin{tabular}{r|llllll}\n",
       "  & OPEN\\_P & HIGH\\_P & LOW\\_P & CLOSE\\_P & VOLUME & CLOSE\\_ADJ\\_P\\\\\n",
       "\\hline\n",
       "\t1 & 31.09257    & 31.93051    & 30.11115    & 31.03209    &  62711915.7 & 22.10730   \\\\\n",
       "\t2 & 28.21482    & 28.56833    & 27.91018    & 28.26443    &    500931.3 & 19.02216   \\\\\n",
       "\t3 & 42.84503    & 43.63152    & 42.02259    & 42.84677    &  10420542.3 & 24.65419   \\\\\n",
       "\t4 & 11.22353    & 11.76984    & 10.63157    & 11.23396    & 393693260.4 & 10.44012   \\\\\n",
       "\\end{tabular}\n"
      ],
      "text/markdown": [
       "1. 31.0925670341636\n",
       "2. 28.2148222678263\n",
       "3. 42.8450312149725\n",
       "4. 11.2235294117647\n",
       "5. 31.9305063291141\n",
       "6. 28.5683289133612\n",
       "7. 43.6315163475064\n",
       "8. 11.7698431372549\n",
       "9. 30.1111460460051\n",
       "10. 27.9101835779673\n",
       "11. 42.0225870155838\n",
       "12. 10.631568627451\n",
       "13. 31.0320933714442\n",
       "14. 28.2644282630548\n",
       "15. 42.8467681893869\n",
       "16. 11.2339607843137\n",
       "17. 62711915.7343133\n",
       "18. 500931.345085441\n",
       "19. 10420542.3297505\n",
       "20. 393693260.392157\n",
       "21. 22.1072968558595\n",
       "22. 19.0221552505816\n",
       "23. 24.6541937613606\n",
       "24. 10.4401176470588\n",
       "\n",
       "\n"
      ],
      "text/plain": [
       "  OPEN_P   HIGH_P   LOW_P    CLOSE_P  VOLUME      CLOSE_ADJ_P\n",
       "1 31.09257 31.93051 30.11115 31.03209  62711915.7 22.10730   \n",
       "2 28.21482 28.56833 27.91018 28.26443    500931.3 19.02216   \n",
       "3 42.84503 43.63152 42.02259 42.84677  10420542.3 24.65419   \n",
       "4 11.22353 11.76984 10.63157 11.23396 393693260.4 10.44012   "
      ]
     },
     "metadata": {},
     "output_type": "display_data"
    }
   ],
   "source": [
    "nyse4Cluster$centers"
   ]
  },
  {
   "cell_type": "markdown",
   "metadata": {},
   "source": [
    "\\hfill\n",
    "\n",
    "\\subsection{k = 200}\n",
    "\n",
    "***2. Perform the same clustering task with the same parameters except setting k= 200.***\n"
   ]
  },
  {
   "cell_type": "code",
   "execution_count": 5,
   "metadata": {
    "collapsed": false
   },
   "outputs": [
    {
     "name": "stderr",
     "output_type": "stream",
     "text": [
      "Warning message:\n",
      "“Quick-TRANSfer stage steps exceeded maximum (= 460551550)”"
     ]
    },
    {
     "name": "stdout",
     "output_type": "stream",
     "text": [
      "Duration  26.09723  seconds"
     ]
    }
   ],
   "source": [
    "# Set seed for reproducibility\n",
    "set.seed(20)\n",
    "start.time <- Sys.time()\n",
    "nyse200Cluster <- kmeans(x = data[, 2:7]\n",
    "                      ,centers = 200\n",
    "                      ,iter.max = 10000\n",
    "                      ,nstart = 1)\n",
    "end.time = Sys.time()\n",
    "time.taken = end.time - start.time\n",
    "cat(\"Duration \", time.taken, \" seconds\")"
   ]
  }
 ],
 "metadata": {
  "kernelspec": {
   "display_name": "R 3.3",
   "language": "R",
   "name": "ir33"
  },
  "language_info": {
   "codemirror_mode": "r",
   "file_extension": ".r",
   "mimetype": "text/x-r-source",
   "name": "R",
   "pygments_lexer": "r",
   "version": "3.3.2"
  }
 },
 "nbformat": 4,
 "nbformat_minor": 1
}
