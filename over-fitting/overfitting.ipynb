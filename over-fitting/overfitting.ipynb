{
 "cells": [
  {
   "cell_type": "markdown",
   "metadata": {},
   "source": [
    "# Over-Fitting and Model Tunning"
   ]
  },
  {
   "cell_type": "markdown",
   "metadata": {},
   "source": [
    "**Over-fitting:** Overemphasizing patterns that are not easily reproducible\n",
    "\n",
    "**Tuning parameter:** a parameter with no analytical formula to calculate an appropriate value"
   ]
  },
  {
   "cell_type": "markdown",
   "metadata": {
    "collapsed": true
   },
   "source": [
    "### Load `AppliedPredictiveModeling` package"
   ]
  },
  {
   "cell_type": "code",
   "execution_count": 1,
   "metadata": {
    "collapsed": true
   },
   "outputs": [],
   "source": [
    "library(AppliedPredictiveModeling)\n",
    "data(twoClassData)"
   ]
  },
  {
   "cell_type": "markdown",
   "metadata": {},
   "source": [
    "The predictors are stored in a frame called predictors"
   ]
  },
  {
   "cell_type": "code",
   "execution_count": 2,
   "metadata": {
    "collapsed": false
   },
   "outputs": [
    {
     "name": "stdout",
     "output_type": "stream",
     "text": [
      "'data.frame':\t208 obs. of  2 variables:\n",
      " $ PredictorA: num  0.158 0.655 0.706 0.199 0.395 ...\n",
      " $ PredictorB: num  0.1609 0.4918 0.6333 0.0881 0.4152 ...\n"
     ]
    }
   ],
   "source": [
    "str(predictors)"
   ]
  },
  {
   "cell_type": "markdown",
   "metadata": {},
   "source": [
    "Classes are in a vector called classes"
   ]
  },
  {
   "cell_type": "code",
   "execution_count": 4,
   "metadata": {
    "collapsed": false
   },
   "outputs": [
    {
     "name": "stdout",
     "output_type": "stream",
     "text": [
      " Factor w/ 2 levels \"Class1\",\"Class2\": 2 2 2 2 2 2 2 2 2 2 ...\n"
     ]
    }
   ],
   "source": [
    "str(classes)"
   ]
  },
  {
   "cell_type": "markdown",
   "metadata": {},
   "source": [
    "The R function `sample` can create simple random splits of the data. To create stratified splits, the createDataPartition function  in the `caret` package can be used. Percentage of data for training must be specified"
   ]
  },
  {
   "cell_type": "code",
   "execution_count": 20,
   "metadata": {
    "collapsed": false
   },
   "outputs": [],
   "source": [
    "# Set the random number seed so we can reproduce the results\n",
    "set.seed(1)\n",
    "# By default, the numbers are returned as a list. \n",
    "# Using list = FALSE, a matrix of row numbers is generated.\n",
    "# These samples are allocated to the training set.\n",
    "library(caret)\n",
    "trainingRows <- createDataPartition(classes,\n",
    "                                   p=.80,\n",
    "                                   list= FALSE)"
   ]
  },
  {
   "cell_type": "code",
   "execution_count": 21,
   "metadata": {
    "collapsed": false
   },
   "outputs": [
    {
     "data": {
      "text/html": [
       "<table>\n",
       "<thead><tr><th scope=col>Resample1</th></tr></thead>\n",
       "<tbody>\n",
       "\t<tr><td>1</td></tr>\n",
       "\t<tr><td>2</td></tr>\n",
       "\t<tr><td>3</td></tr>\n",
       "\t<tr><td>4</td></tr>\n",
       "\t<tr><td>5</td></tr>\n",
       "\t<tr><td>6</td></tr>\n",
       "</tbody>\n",
       "</table>\n"
      ],
      "text/latex": [
       "\\begin{tabular}{l}\n",
       " Resample1\\\\\n",
       "\\hline\n",
       "\t 1\\\\\n",
       "\t 2\\\\\n",
       "\t 3\\\\\n",
       "\t 4\\\\\n",
       "\t 5\\\\\n",
       "\t 6\\\\\n",
       "\\end{tabular}\n"
      ],
      "text/markdown": [
       "1. 1\n",
       "2. 2\n",
       "3. 3\n",
       "4. 4\n",
       "5. 5\n",
       "6. 6\n",
       "\n",
       "\n"
      ],
      "text/plain": [
       "     Resample1\n",
       "[1,] 1        \n",
       "[2,] 2        \n",
       "[3,] 3        \n",
       "[4,] 4        \n",
       "[5,] 5        \n",
       "[6,] 6        "
      ]
     },
     "metadata": {},
     "output_type": "display_data"
    }
   ],
   "source": [
    "head(trainingRows)"
   ]
  },
  {
   "cell_type": "code",
   "execution_count": 23,
   "metadata": {
    "collapsed": true
   },
   "outputs": [],
   "source": [
    "# Subset the data into object for training using \n",
    "# integer sub-setting\n",
    "trainPredictors <- predictors[trainingRows, ]\n",
    "trainClasses <- classes[trainingRows]\n",
    "\n",
    "# Do the same for the test set using negative integers\n",
    "testPredictors <- predictors[-trainingRows, ]\n",
    "testClasses <- classes[-trainingRows]"
   ]
  },
  {
   "cell_type": "code",
   "execution_count": 24,
   "metadata": {
    "collapsed": false
   },
   "outputs": [
    {
     "name": "stdout",
     "output_type": "stream",
     "text": [
      "'data.frame':\t167 obs. of  2 variables:\n",
      " $ PredictorA: num  0.158 0.655 0.706 0.199 0.395 ...\n",
      " $ PredictorB: num  0.1609 0.4918 0.6333 0.0881 0.4152 ...\n"
     ]
    }
   ],
   "source": [
    "str(trainPredictors)"
   ]
  },
  {
   "cell_type": "code",
   "execution_count": 25,
   "metadata": {
    "collapsed": false
   },
   "outputs": [
    {
     "name": "stdout",
     "output_type": "stream",
     "text": [
      "'data.frame':\t41 obs. of  2 variables:\n",
      " $ PredictorA: num  0.0658 0.1056 0.2909 0.4129 0.0472 ...\n",
      " $ PredictorB: num  0.1786 0.0801 0.3021 0.2869 0.0414 ...\n"
     ]
    }
   ],
   "source": [
    "str(testPredictors)"
   ]
  },
  {
   "cell_type": "markdown",
   "metadata": {},
   "source": [
    "Use `maxdissmim` function in the caret lib to generate test sets using maximum dissimilarity sampling"
   ]
  },
  {
   "cell_type": "markdown",
   "metadata": {},
   "source": [
    "### Resampling"
   ]
  },
  {
   "cell_type": "markdown",
   "metadata": {},
   "source": [
    "To use repeated training/test splits, the function `createDataPartitions` from the `caret` library can be used with an additional argument `times` to generate multiple splits"
   ]
  },
  {
   "cell_type": "code",
   "execution_count": 27,
   "metadata": {
    "collapsed": true
   },
   "outputs": [],
   "source": [
    "set.seed(1)\n",
    "# Resampled versions of the training set\n",
    "repeatedSplits <- createDataPartition(trainClasses, p = .80, times = 3)"
   ]
  },
  {
   "cell_type": "code",
   "execution_count": 28,
   "metadata": {
    "collapsed": false
   },
   "outputs": [
    {
     "name": "stdout",
     "output_type": "stream",
     "text": [
      "List of 3\n",
      " $ Resample1: int [1:135] 1 2 4 5 6 8 9 10 11 12 ...\n",
      " $ Resample2: int [1:135] 2 3 4 6 7 8 9 11 14 15 ...\n",
      " $ Resample3: int [1:135] 4 5 6 7 8 9 11 13 14 15 ...\n"
     ]
    }
   ],
   "source": [
    "str(repeatedSplits)"
   ]
  },
  {
   "cell_type": "markdown",
   "metadata": {},
   "source": [
    "Similarly, `caret` package has functions `createResamples`, `createFolds` (for k-fold cross-validation) and `createMultiFolds` (for repeated cross-validation)"
   ]
  },
  {
   "cell_type": "code",
   "execution_count": 30,
   "metadata": {
    "collapsed": false
   },
   "outputs": [
    {
     "name": "stdout",
     "output_type": "stream",
     "text": [
      "List of 10\n",
      " $ Fold01: int [1:151] 2 3 4 5 6 7 11 12 13 14 ...\n",
      " $ Fold02: int [1:150] 1 2 3 4 5 6 7 8 9 10 ...\n",
      " $ Fold03: int [1:150] 1 2 3 4 5 6 7 8 9 10 ...\n",
      " $ Fold04: int [1:151] 1 2 3 4 5 7 8 9 10 11 ...\n",
      " $ Fold05: int [1:150] 1 2 3 5 6 7 8 9 10 11 ...\n",
      " $ Fold06: int [1:150] 1 2 3 4 5 6 8 9 10 11 ...\n",
      " $ Fold07: int [1:150] 1 3 4 5 6 7 8 9 10 11 ...\n",
      " $ Fold08: int [1:151] 1 2 3 4 5 6 7 8 9 10 ...\n",
      " $ Fold09: int [1:150] 1 2 4 5 6 7 8 9 10 12 ...\n",
      " $ Fold10: int [1:150] 1 2 3 4 6 7 8 9 10 11 ...\n"
     ]
    }
   ],
   "source": [
    "set.seed(1)\n",
    "cvSplits <- createFolds(trainClasses, k = 10, returnTrain = TRUE)\n",
    "str(cvSplits)"
   ]
  },
  {
   "cell_type": "code",
   "execution_count": 31,
   "metadata": {
    "collapsed": true
   },
   "outputs": [],
   "source": [
    "# Get the first set of rows from the list\n",
    "fold1 <-cvSplits[[1]]"
   ]
  },
  {
   "cell_type": "markdown",
   "metadata": {},
   "source": [
    "To get the first 90% of the data in the first fold"
   ]
  },
  {
   "cell_type": "code",
   "execution_count": 33,
   "metadata": {
    "collapsed": false
   },
   "outputs": [
    {
     "data": {
      "text/html": [
       "167"
      ],
      "text/latex": [
       "167"
      ],
      "text/markdown": [
       "167"
      ],
      "text/plain": [
       "[1] 167"
      ]
     },
     "metadata": {},
     "output_type": "display_data"
    },
    {
     "data": {
      "text/html": [
       "151"
      ],
      "text/latex": [
       "151"
      ],
      "text/markdown": [
       "151"
      ],
      "text/plain": [
       "[1] 151"
      ]
     },
     "metadata": {},
     "output_type": "display_data"
    }
   ],
   "source": [
    "cvPredictors1 <- trainPredictors[fold1,]\n",
    "cvClasses <- trainClasses[fold1]\n",
    "nrow(trainPredictors)\n",
    "nrow(cvPredictors1)"
   ]
  },
  {
   "cell_type": "markdown",
   "metadata": {},
   "source": [
    "### Basic Model Building\n",
    "\n",
    "1. `knn` is in the MASS package\n",
    "2. `ipredknn` in the ipred package\n",
    "3. `knn3` in the caret package\n",
    "\n",
    "`knn3` can produce class predictions as well as the proportion of neighbors for each class\n",
    "\n",
    "#### **Conventions for specifying Models**\n",
    "1. Formula interface\n",
    "2. Non-Formula (matrix) interface\n",
    "\n",
    "**Formula Interface**\n",
    "\n",
    "In R, the left hand denotes the outcome of a function and on the right we have predictors. The outcome and predictor are separated by **`~`**\n",
    "\n",
    "**`example`**\n",
    "\n",
    "`modelFunction(price ~ numBedrooms + numBaths + acres, data = housingData)`\n",
    "\n",
    "To use all columns in a data set except `y` we would use the formula `y ~ .`\n",
    "\n",
    "The advantage of the formula interface is that it allows inline transformations like `log(acres)` but it is not a good option for datasets that contain a large number of predictors because it might make computations slower\n",
    "\n",
    "**Non-Formula Interface**\n",
    "\n",
    "The non-formula interface specifies the predictors for the model using a matrix or data frame. The outcome data are usually passed into the model as a vector object.\n",
    "\n",
    "**`example`**\n",
    "\n",
    "`modelFunction(x = housePredictors, y = price)`\n",
    "\n",
    "All **`R`** functions have both interfaces\n",
    "\n",
    "***Using `knn3` to estimate 5-nearest neighbors***"
   ]
  },
  {
   "cell_type": "code",
   "execution_count": 80,
   "metadata": {
    "collapsed": false
   },
   "outputs": [
    {
     "data": {
      "text/plain": [
       "5-nearest neighbor classification model\n",
       "Training set class distribution:\n",
       "\n",
       "Class1 Class2 \n",
       "    89     78 \n"
      ]
     },
     "metadata": {},
     "output_type": "display_data"
    }
   ],
   "source": [
    "trainingPredictors_m <- as.matrix(trainPredictors)\n",
    "knnFit <- knn3(x = trainingPredictors_m, y = trainClasses, k = 5)\n",
    "knnFit"
   ]
  },
  {
   "cell_type": "markdown",
   "metadata": {},
   "source": [
    "To assign new samples to classes, the `predict` method is used with the model object."
   ]
  },
  {
   "cell_type": "code",
   "execution_count": 81,
   "metadata": {
    "collapsed": false
   },
   "outputs": [
    {
     "data": {
      "text/html": [
       "<ol class=list-inline>\n",
       "\t<li>Class2</li>\n",
       "\t<li>Class2</li>\n",
       "\t<li>Class1</li>\n",
       "\t<li>Class1</li>\n",
       "\t<li>Class2</li>\n",
       "\t<li>Class2</li>\n",
       "</ol>\n"
      ],
      "text/latex": [
       "\\begin{enumerate*}\n",
       "\\item Class2\n",
       "\\item Class2\n",
       "\\item Class1\n",
       "\\item Class1\n",
       "\\item Class2\n",
       "\\item Class2\n",
       "\\end{enumerate*}\n"
      ],
      "text/markdown": [
       "1. Class2\n",
       "2. Class2\n",
       "3. Class1\n",
       "4. Class1\n",
       "5. Class2\n",
       "6. Class2\n",
       "\n",
       "\n"
      ],
      "text/plain": [
       "[1] Class2 Class2 Class1 Class1 Class2 Class2\n",
       "Levels: Class1 Class2"
      ]
     },
     "metadata": {},
     "output_type": "display_data"
    }
   ],
   "source": [
    "testPredictions <- predict(knnFit, newdata = testPredictors, type = \"class\")\n",
    "head(testPredictions)"
   ]
  },
  {
   "cell_type": "code",
   "execution_count": 82,
   "metadata": {
    "collapsed": false
   },
   "outputs": [
    {
     "name": "stdout",
     "output_type": "stream",
     "text": [
      " Factor w/ 2 levels \"Class1\",\"Class2\": 2 2 1 1 2 2 2 2 2 2 ...\n"
     ]
    }
   ],
   "source": [
    "str(testPredictions)"
   ]
  },
  {
   "cell_type": "markdown",
   "metadata": {},
   "source": [
    "### Determination of Tuning Parameters\n",
    "\n",
    "The `e1071` package contains the `tune` function which can evaluate four types of models across a range of parameters.\n",
    "\n",
    "The `errorest` function in the `ipred` package can resample single models\n",
    "\n",
    "The `train` function in `caret` package has built-in modules for 144 models. It also has the capability for parallel processing.\n",
    "\n",
    "#### Using SVM model for credit rating"
   ]
  },
  {
   "cell_type": "code",
   "execution_count": 83,
   "metadata": {
    "collapsed": true
   },
   "outputs": [],
   "source": [
    "library(caret)\n",
    "data(GermanCredit)"
   ]
  },
  {
   "cell_type": "code",
   "execution_count": 84,
   "metadata": {
    "collapsed": false
   },
   "outputs": [],
   "source": [
    "## First, remove near-zero variance predictors then get rid of a few predictors \n",
    "## that duplicate values. For example, there are two possible values for the \n",
    "## housing variable: \"Rent\", \"Own\" and \"ForFree\". So that we don't have linear\n",
    "## dependencies, we get rid of one of the levels (e.g. \"ForFree\")\n",
    "\n",
    "GermanCredit <- GermanCredit[, -nearZeroVar(GermanCredit)]\n",
    "GermanCredit$CheckingAccountStatus.lt.0 <- NULL\n",
    "GermanCredit$SavingsAccountBonds.lt.100 <- NULL\n",
    "GermanCredit$EmploymentDuration.lt.1 <- NULL\n",
    "GermanCredit$EmploymentDuration.Unemployed <- NULL\n",
    "GermanCredit$Personal.Male.Married.Widowed <- NULL\n",
    "GermanCredit$Property.Unknown <- NULL\n",
    "GermanCredit$Housing.ForFree <- NULL\n",
    "\n",
    "## Split the data into training (80%) and test sets (20%)\n",
    "set.seed(100)\n",
    "inTrain <- createDataPartition(GermanCredit$Class, p = .8)[[1]]\n",
    "GermanCreditTrain <- GermanCredit[ inTrain, ]\n",
    "GermanCreditTest  <- GermanCredit[-inTrain, ]\n",
    "\n",
    "## The model fitting code shown in the computing section is fairly\n",
    "## simplistic.  For the text we estimate the tuning parameter grid\n",
    "## up-front and pass it in explicitly. This generally is not needed,\n",
    "## but was used here so that we could trim the cost values to a\n",
    "## presentable range and to re-use later with different resampling\n",
    "## methods.\n",
    "\n",
    "library(kernlab)\n",
    "set.seed(231)\n",
    "sigDist <- sigest(Class ~ ., data = GermanCreditTrain, frac = 1)\n",
    "svmTuneGrid <- data.frame(sigma = as.vector(sigDist)[1], C = 2^(-2:7))\n",
    "\n",
    "### Optional: parallel processing can be used via the 'do' packages,\n",
    "### such as doMC, doMPI etc. We used doMC (not on Windows) to speed\n",
    "### up the computations.\n",
    "\n",
    "### WARNING: Be aware of how much memory is needed to parallel\n",
    "### process. It can very quickly overwhelm the available hardware. We\n",
    "### estimate the memory usage (VSIZE = total memory size) to be \n",
    "### 2566M/core.\n",
    "\n",
    "library(doMC)\n",
    "registerDoMC(4)"
   ]
  },
  {
   "cell_type": "code",
   "execution_count": 90,
   "metadata": {
    "collapsed": false
   },
   "outputs": [
    {
     "data": {
      "text/plain": [
       "Support Vector Machines with Radial Basis Function Kernel \n",
       "\n",
       "800 samples\n",
       " 41 predictors\n",
       "  2 classes: 'Bad', 'Good' \n",
       "\n",
       "Pre-processing: centered (41), scaled (41) \n",
       "Resampling: Cross-Validated (10 fold, repeated 5 times) \n",
       "Summary of sample sizes: 720, 720, 720, 720, 720, 720, ... \n",
       "Resampling results across tuning parameters:\n",
       "\n",
       "  C       Accuracy  Kappa    \n",
       "    0.25  0.74000   0.3515746\n",
       "    0.50  0.74175   0.3496850\n",
       "    1.00  0.74500   0.3468956\n",
       "    2.00  0.74325   0.3283526\n",
       "    4.00  0.74375   0.3264491\n",
       "    8.00  0.74725   0.3202249\n",
       "   16.00  0.74575   0.3081379\n",
       "   32.00  0.74000   0.2866269\n",
       "   64.00  0.74025   0.2777431\n",
       "  128.00  0.73575   0.2710350\n",
       "\n",
       "Tuning parameter 'sigma' was held constant at a value of 0.008865455\n",
       "Accuracy was used to select the optimal model using  the largest value.\n",
       "The final values used for the model were sigma = 0.008865455 and C = 8. "
      ]
     },
     "metadata": {},
     "output_type": "display_data"
    }
   ],
   "source": [
    "set.seed(1056)\n",
    "svmFit <- train(Class ~ .,\n",
    "               data = GermanCreditTrain,\n",
    "               # The \"method\" argument indicates the model type.\n",
    "               # See ?train for a list of available models)\n",
    "               method = \"svmRadial\",\n",
    "               preProc = c(\"center\",\"scale\"),\n",
    "               # tunelengh = 10 ecaluates cost values 2^-2,...,2^-7\n",
    "               tuneLength = 10,\n",
    "               tuneGrid = svmTuneGrid,\n",
    "               # Use 10-fold cross-validation\n",
    "               trControl = trainControl(method = \"repeatedcv\",\n",
    "                                          repeats = 5,\n",
    "                                          classProbs = TRUE))\n",
    "svmFit"
   ]
  },
  {
   "cell_type": "markdown",
   "metadata": {
    "collapsed": true
   },
   "source": [
    "`plot` is used to visualize the performance scale"
   ]
  },
  {
   "cell_type": "code",
   "execution_count": 91,
   "metadata": {
    "collapsed": false
   },
   "outputs": [
    {
     "data": {},
     "metadata": {},
     "output_type": "display_data"
    },
    {
     "data": {
      "image/png": "[encoded data removed]",
      "text/plain": [
       "plot without title"
      ]
     },
     "metadata": {},
     "output_type": "display_data"
    }
   ],
   "source": [
    "# A line plot of the average performance\n",
    "plot(svmFit, scales = list(x = list(log = 2)))"
   ]
  },
  {
   "cell_type": "markdown",
   "metadata": {},
   "source": [
    "Predimct new samples"
   ]
  },
  {
   "cell_type": "code",
   "execution_count": 92,
   "metadata": {
    "collapsed": false
   },
   "outputs": [
    {
     "name": "stdout",
     "output_type": "stream",
     "text": [
      " Factor w/ 2 levels \"Bad\",\"Good\": 1 2 2 2 1 2 2 2 1 2 ...\n"
     ]
    }
   ],
   "source": [
    "predictedClasses <- predict(svmFit, GermanCreditTest)\n",
    "str(predictedClasses) "
   ]
  },
  {
   "cell_type": "raw",
   "metadata": {},
   "source": [
    "The `type` option is used to get class probabilities"
   ]
  },
  {
   "cell_type": "code",
   "execution_count": 93,
   "metadata": {
    "collapsed": true
   },
   "outputs": [
    {
     "data": {
      "text/html": [
       "<table>\n",
       "<thead><tr><th scope=col>Bad</th><th scope=col>Good</th></tr></thead>\n",
       "<tbody>\n",
       "\t<tr><td>0.5579638</td><td>0.4420362</td></tr>\n",
       "\t<tr><td>0.4780411</td><td>0.5219589</td></tr>\n",
       "\t<tr><td>0.3175943</td><td>0.6824057</td></tr>\n",
       "\t<tr><td>0.1098867</td><td>0.8901133</td></tr>\n",
       "\t<tr><td>0.5721274</td><td>0.4278726</td></tr>\n",
       "\t<tr><td>0.1558800</td><td>0.8441200</td></tr>\n",
       "</tbody>\n",
       "</table>\n"
      ],
      "text/latex": [
       "\\begin{tabular}{r|ll}\n",
       " Bad & Good\\\\\n",
       "\\hline\n",
       "\t 0.5579638 & 0.4420362\\\\\n",
       "\t 0.4780411 & 0.5219589\\\\\n",
       "\t 0.3175943 & 0.6824057\\\\\n",
       "\t 0.1098867 & 0.8901133\\\\\n",
       "\t 0.5721274 & 0.4278726\\\\\n",
       "\t 0.1558800 & 0.8441200\\\\\n",
       "\\end{tabular}\n"
      ],
      "text/plain": [
       "  Bad       Good     \n",
       "1 0.5579638 0.4420362\n",
       "2 0.4780411 0.5219589\n",
       "3 0.3175943 0.6824057\n",
       "4 0.1098867 0.8901133\n",
       "5 0.5721274 0.4278726\n",
       "6 0.1558800 0.8441200"
      ]
     },
     "metadata": {},
     "output_type": "display_data"
    }
   ],
   "source": [
    "predictedProbs <- predict(svmFit, newdata = GermanCreditTest, type = \"prob\")\n",
    "head(predictedProbs)"
   ]
  },
  {
   "cell_type": "markdown",
   "metadata": {},
   "source": [
    "### Between-Model Comparisons\n",
    "\n",
    "Performing the above training using logistic linear regression"
   ]
  },
  {
   "cell_type": "code",
   "execution_count": 97,
   "metadata": {
    "collapsed": false
   },
   "outputs": [
    {
     "data": {
      "text/plain": [
       "Generalized Linear Model \n",
       "\n",
       "800 samples\n",
       " 41 predictors\n",
       "  2 classes: 'Bad', 'Good' \n",
       "\n",
       "No pre-processing\n",
       "Resampling: Cross-Validated (10 fold, repeated 5 times) \n",
       "Summary of sample sizes: 720, 720, 720, 720, 720, 720, ... \n",
       "Resampling results:\n",
       "\n",
       "  Accuracy  Kappa    \n",
       "  0.749     0.3647664\n",
       "\n",
       " "
      ]
     },
     "metadata": {},
     "output_type": "display_data"
    }
   ],
   "source": [
    "set.seed(1056)\n",
    "logisticReg <- train(Class ~ .,\n",
    "                    data = GermanCreditTrain,\n",
    "                    method = \"glm\",\n",
    "                    trControl = trainControl(method = \"repeatedcv\"\n",
    "                                            ,repeats = 5))\n",
    "logisticReg"
   ]
  },
  {
   "cell_type": "markdown",
   "metadata": {},
   "source": [
    "Now we compare Logistic Regression (Generalized Linear Model), with SVM (Support Vector Machine)"
   ]
  },
  {
   "cell_type": "code",
   "execution_count": 98,
   "metadata": {
    "collapsed": false
   },
   "outputs": [
    {
     "data": {
      "text/plain": [
       "\n",
       "Call:\n",
       "summary.resamples(object = resamp)\n",
       "\n",
       "Models: SVM, Logistic \n",
       "Number of resamples: 50 \n",
       "\n",
       "Accuracy \n",
       "           Min. 1st Qu. Median   Mean 3rd Qu.  Max. NA's\n",
       "SVM      0.6375   0.725 0.7562 0.7472  0.7844 0.825    0\n",
       "Logistic 0.6125   0.725 0.7562 0.7490  0.7844 0.850    0\n",
       "\n",
       "Kappa \n",
       "             Min. 1st Qu. Median   Mean 3rd Qu.   Max. NA's\n",
       "SVM      -0.02113  0.2369 0.3277 0.3202  0.4178 0.5139    0\n",
       "Logistic  0.07534  0.2831 0.3750 0.3648  0.4504 0.6250    0\n"
      ]
     },
     "metadata": {},
     "output_type": "display_data"
    }
   ],
   "source": [
    "resamp <- resamples(list(SVM = svmFit, Logistic = logisticReg))\n",
    "summary(resamp)"
   ]
  },
  {
   "cell_type": "markdown",
   "metadata": {},
   "source": [
    "check `?xyplot.resamples` for a list of plot types\n",
    "\n",
    "#### Check for possible differences"
   ]
  },
  {
   "cell_type": "code",
   "execution_count": 99,
   "metadata": {
    "collapsed": false
   },
   "outputs": [
    {
     "data": {
      "text/plain": [
       "\n",
       "Call:\n",
       "summary.diff.resamples(object = modelDifferences)\n",
       "\n",
       "p-value adjustment: bonferroni \n",
       "Upper diagonal: estimates of the difference\n",
       "Lower diagonal: p-value for H0: difference = 0\n",
       "\n",
       "Accuracy \n",
       "         SVM    Logistic\n",
       "SVM             -0.00175\n",
       "Logistic 0.7491         \n",
       "\n",
       "Kappa \n",
       "         SVM      Logistic\n",
       "SVM               -0.04454\n",
       "Logistic 0.002217         \n"
      ]
     },
     "metadata": {},
     "output_type": "display_data"
    }
   ],
   "source": [
    "modelDifferences <- diff(resamp)\n",
    "summary(modelDifferences)"
   ]
  },
  {
   "cell_type": "code",
   "execution_count": null,
   "metadata": {
    "collapsed": true
   },
   "outputs": [],
   "source": []
  }
 ],
 "metadata": {
  "kernelspec": {
   "display_name": "R",
   "language": "R",
   "name": "ir"
  },
  "language_info": {
   "codemirror_mode": "r",
   "file_extension": ".r",
   "mimetype": "text/x-r-source",
   "name": "R",
   "pygments_lexer": "r",
   "version": "3.3.2"
  }
 },
 "nbformat": 4,
 "nbformat_minor": 0
}
